{
 "cells": [
  {
   "cell_type": "markdown",
   "id": "98116a8e",
   "metadata": {},
   "source": [
    "# RNN - Model"
   ]
  },
  {
   "cell_type": "code",
   "execution_count": 191,
   "id": "b6c53e33",
   "metadata": {},
   "outputs": [],
   "source": [
    "# DATA MANIPULATION, Visualization, and stats\n",
    "import pandas as pd\n",
    "# from glob import glob\n",
    "import os\n",
    "import seaborn as sns\n",
    "import matplotlib.pyplot as plt\n",
    "import numpy as np\n",
    "from sklearn.preprocessing import MinMaxScaler"
   ]
  },
  {
   "cell_type": "code",
   "execution_count": 192,
   "id": "453e9314",
   "metadata": {},
   "outputs": [
    {
     "data": {
      "text/plain": [
       "'/Users/eduardomonteiro/code/mattwagon/oil_production_prediction/notebooks'"
      ]
     },
     "execution_count": 192,
     "metadata": {},
     "output_type": "execute_result"
    }
   ],
   "source": [
    "# Your current working directory should be ./mattwagon/oil_production_prediction/notebooks\n",
    "os.getcwd()"
   ]
  },
  {
   "cell_type": "markdown",
   "id": "dc2bd67d",
   "metadata": {},
   "source": [
    "## Import the data"
   ]
  },
  {
   "cell_type": "code",
   "execution_count": 193,
   "id": "02647693",
   "metadata": {},
   "outputs": [],
   "source": [
    "# This filepath should work for all of us\n",
    "# I have added 'raw_data' to .gitignore so it should never be pushed to the repo\n",
    "path = os.path.join('..', 'raw_data')\n",
    "file_names = os.listdir(path)\n",
    "csv_files = [f for f in file_names if f.endswith('.csv')]\n",
    "\n",
    "csv_files.sort()\n",
    "\n",
    "df = pd.DataFrame()\n",
    "\n",
    "for file in csv_files:\n",
    "    file_path = os.path.join(path, file)\n",
    "    df_aux = pd.read_csv(file_path)\n",
    "    df = pd.concat([df, df_aux], ignore_index=True)"
   ]
  },
  {
   "cell_type": "code",
   "execution_count": 194,
   "id": "bafc30ad",
   "metadata": {},
   "outputs": [],
   "source": [
    "df['Date'] = pd.to_datetime(df['Date'])\n",
    "df['Date'] = df['Date'].dt.tz_convert(None)\n",
    "df['Date'] = pd.to_datetime(df['Date'].apply(lambda x: x + pd.DateOffset(hours=1)))"
   ]
  },
  {
   "cell_type": "code",
   "execution_count": 195,
   "id": "2542486f",
   "metadata": {},
   "outputs": [
    {
     "data": {
      "text/html": [
       "<div>\n",
       "<style scoped>\n",
       "    .dataframe tbody tr th:only-of-type {\n",
       "        vertical-align: middle;\n",
       "    }\n",
       "\n",
       "    .dataframe tbody tr th {\n",
       "        vertical-align: top;\n",
       "    }\n",
       "\n",
       "    .dataframe thead th {\n",
       "        text-align: right;\n",
       "    }\n",
       "</style>\n",
       "<table border=\"1\" class=\"dataframe\">\n",
       "  <thead>\n",
       "    <tr style=\"text-align: right;\">\n",
       "      <th></th>\n",
       "      <th>Date</th>\n",
       "      <th>Calculated Drawdown_At Gauge</th>\n",
       "      <th>Calculated Drawdown_At Bottom Node</th>\n",
       "      <th>Reservoir Pressure</th>\n",
       "      <th>z Well Identifier</th>\n",
       "      <th>z TMore PS Identifier</th>\n",
       "      <th>z TMore Identifier</th>\n",
       "      <th>z Tag Identifier 2</th>\n",
       "      <th>z Tag Identifier</th>\n",
       "      <th>z PI-AF Database</th>\n",
       "      <th>...</th>\n",
       "      <th>Annulus Master Valve Status</th>\n",
       "      <th>Annulus Master Valve Opening Frequency</th>\n",
       "      <th>Pseudo Cv</th>\n",
       "      <th>GL GOR</th>\n",
       "      <th>GL Qgas</th>\n",
       "      <th>GL Qliq</th>\n",
       "      <th>GL Qoil</th>\n",
       "      <th>GL Qwat</th>\n",
       "      <th>GL Ramp-up Speed</th>\n",
       "      <th>GL WCT</th>\n",
       "    </tr>\n",
       "  </thead>\n",
       "  <tbody>\n",
       "    <tr>\n",
       "      <th>0</th>\n",
       "      <td>2007-02-01</td>\n",
       "      <td>NaN</td>\n",
       "      <td>NaN</td>\n",
       "      <td>186.34</td>\n",
       "      <td>30221</td>\n",
       "      <td>NaN</td>\n",
       "      <td>NaN</td>\n",
       "      <td>1</td>\n",
       "      <td>3022</td>\n",
       "      <td>NaN</td>\n",
       "      <td>...</td>\n",
       "      <td>NaN</td>\n",
       "      <td>NaN</td>\n",
       "      <td>NaN</td>\n",
       "      <td>52.5</td>\n",
       "      <td>90.0</td>\n",
       "      <td>32300.0</td>\n",
       "      <td>10960.0</td>\n",
       "      <td>21360.0</td>\n",
       "      <td>NaN</td>\n",
       "      <td>66.08</td>\n",
       "    </tr>\n",
       "    <tr>\n",
       "      <th>1</th>\n",
       "      <td>2007-02-02</td>\n",
       "      <td>NaN</td>\n",
       "      <td>NaN</td>\n",
       "      <td>186.34</td>\n",
       "      <td>30221</td>\n",
       "      <td>NaN</td>\n",
       "      <td>NaN</td>\n",
       "      <td>1</td>\n",
       "      <td>3022</td>\n",
       "      <td>NaN</td>\n",
       "      <td>...</td>\n",
       "      <td>NaN</td>\n",
       "      <td>NaN</td>\n",
       "      <td>NaN</td>\n",
       "      <td>52.5</td>\n",
       "      <td>90.0</td>\n",
       "      <td>32300.0</td>\n",
       "      <td>10960.0</td>\n",
       "      <td>21360.0</td>\n",
       "      <td>NaN</td>\n",
       "      <td>66.08</td>\n",
       "    </tr>\n",
       "    <tr>\n",
       "      <th>2</th>\n",
       "      <td>2007-02-03</td>\n",
       "      <td>NaN</td>\n",
       "      <td>NaN</td>\n",
       "      <td>186.34</td>\n",
       "      <td>30221</td>\n",
       "      <td>NaN</td>\n",
       "      <td>NaN</td>\n",
       "      <td>1</td>\n",
       "      <td>3022</td>\n",
       "      <td>NaN</td>\n",
       "      <td>...</td>\n",
       "      <td>NaN</td>\n",
       "      <td>NaN</td>\n",
       "      <td>NaN</td>\n",
       "      <td>52.5</td>\n",
       "      <td>90.0</td>\n",
       "      <td>32300.0</td>\n",
       "      <td>10960.0</td>\n",
       "      <td>21360.0</td>\n",
       "      <td>NaN</td>\n",
       "      <td>66.08</td>\n",
       "    </tr>\n",
       "    <tr>\n",
       "      <th>3</th>\n",
       "      <td>2007-02-04</td>\n",
       "      <td>NaN</td>\n",
       "      <td>NaN</td>\n",
       "      <td>186.34</td>\n",
       "      <td>30221</td>\n",
       "      <td>NaN</td>\n",
       "      <td>NaN</td>\n",
       "      <td>1</td>\n",
       "      <td>3022</td>\n",
       "      <td>NaN</td>\n",
       "      <td>...</td>\n",
       "      <td>NaN</td>\n",
       "      <td>NaN</td>\n",
       "      <td>NaN</td>\n",
       "      <td>52.5</td>\n",
       "      <td>90.0</td>\n",
       "      <td>32300.0</td>\n",
       "      <td>10960.0</td>\n",
       "      <td>21360.0</td>\n",
       "      <td>NaN</td>\n",
       "      <td>66.08</td>\n",
       "    </tr>\n",
       "    <tr>\n",
       "      <th>4</th>\n",
       "      <td>2007-02-05</td>\n",
       "      <td>NaN</td>\n",
       "      <td>NaN</td>\n",
       "      <td>186.34</td>\n",
       "      <td>30221</td>\n",
       "      <td>NaN</td>\n",
       "      <td>NaN</td>\n",
       "      <td>1</td>\n",
       "      <td>3022</td>\n",
       "      <td>NaN</td>\n",
       "      <td>...</td>\n",
       "      <td>NaN</td>\n",
       "      <td>NaN</td>\n",
       "      <td>NaN</td>\n",
       "      <td>52.5</td>\n",
       "      <td>90.0</td>\n",
       "      <td>32300.0</td>\n",
       "      <td>10960.0</td>\n",
       "      <td>21360.0</td>\n",
       "      <td>NaN</td>\n",
       "      <td>66.08</td>\n",
       "    </tr>\n",
       "  </tbody>\n",
       "</table>\n",
       "<p>5 rows × 189 columns</p>\n",
       "</div>"
      ],
      "text/plain": [
       "        Date  Calculated Drawdown_At Gauge  \\\n",
       "0 2007-02-01                           NaN   \n",
       "1 2007-02-02                           NaN   \n",
       "2 2007-02-03                           NaN   \n",
       "3 2007-02-04                           NaN   \n",
       "4 2007-02-05                           NaN   \n",
       "\n",
       "   Calculated Drawdown_At Bottom Node  Reservoir Pressure  z Well Identifier  \\\n",
       "0                                 NaN              186.34              30221   \n",
       "1                                 NaN              186.34              30221   \n",
       "2                                 NaN              186.34              30221   \n",
       "3                                 NaN              186.34              30221   \n",
       "4                                 NaN              186.34              30221   \n",
       "\n",
       "   z TMore PS Identifier  z TMore Identifier  z Tag Identifier 2  \\\n",
       "0                    NaN                 NaN                   1   \n",
       "1                    NaN                 NaN                   1   \n",
       "2                    NaN                 NaN                   1   \n",
       "3                    NaN                 NaN                   1   \n",
       "4                    NaN                 NaN                   1   \n",
       "\n",
       "   z Tag Identifier  z PI-AF Database  ...  Annulus Master Valve Status  \\\n",
       "0              3022               NaN  ...                          NaN   \n",
       "1              3022               NaN  ...                          NaN   \n",
       "2              3022               NaN  ...                          NaN   \n",
       "3              3022               NaN  ...                          NaN   \n",
       "4              3022               NaN  ...                          NaN   \n",
       "\n",
       "   Annulus Master Valve Opening Frequency  Pseudo Cv  GL GOR  GL Qgas  \\\n",
       "0                                     NaN        NaN    52.5     90.0   \n",
       "1                                     NaN        NaN    52.5     90.0   \n",
       "2                                     NaN        NaN    52.5     90.0   \n",
       "3                                     NaN        NaN    52.5     90.0   \n",
       "4                                     NaN        NaN    52.5     90.0   \n",
       "\n",
       "   GL Qliq  GL Qoil  GL Qwat  GL Ramp-up Speed  GL WCT  \n",
       "0  32300.0  10960.0  21360.0               NaN   66.08  \n",
       "1  32300.0  10960.0  21360.0               NaN   66.08  \n",
       "2  32300.0  10960.0  21360.0               NaN   66.08  \n",
       "3  32300.0  10960.0  21360.0               NaN   66.08  \n",
       "4  32300.0  10960.0  21360.0               NaN   66.08  \n",
       "\n",
       "[5 rows x 189 columns]"
      ]
     },
     "execution_count": 195,
     "metadata": {},
     "output_type": "execute_result"
    }
   ],
   "source": [
    "df.head()"
   ]
  },
  {
   "cell_type": "markdown",
   "id": "47726500",
   "metadata": {},
   "source": [
    "## Data cleaning"
   ]
  },
  {
   "cell_type": "markdown",
   "id": "1be11f9a",
   "metadata": {},
   "source": [
    "### Drop features with more than 30% NaN values"
   ]
  },
  {
   "cell_type": "code",
   "execution_count": 196,
   "id": "aaf5d680",
   "metadata": {},
   "outputs": [],
   "source": [
    "features_nan_drop = []\n",
    "\n",
    "for feature, value in dict(df.isnull().sum().sort_values(ascending=False)).items():\n",
    "    if value/len(df) > 0.3:\n",
    "        features_nan_drop.append(feature)\n",
    "        \n",
    "df.drop(columns=features_nan_drop, inplace=True)"
   ]
  },
  {
   "cell_type": "code",
   "execution_count": 197,
   "id": "d41a6329",
   "metadata": {},
   "outputs": [
    {
     "data": {
      "text/plain": [
       "(5813, 65)"
      ]
     },
     "execution_count": 197,
     "metadata": {},
     "output_type": "execute_result"
    }
   ],
   "source": [
    "df.shape"
   ]
  },
  {
   "cell_type": "markdown",
   "id": "aeb063c1",
   "metadata": {},
   "source": [
    "### Drop features with std = 0"
   ]
  },
  {
   "cell_type": "code",
   "execution_count": 198,
   "id": "82a3b658",
   "metadata": {},
   "outputs": [],
   "source": [
    "features_null_std = []\n",
    "\n",
    "for feature in df.drop(columns='Date').columns:\n",
    "    if df[feature].std() < 0.0000001:\n",
    "        features_null_std.append(feature)\n",
    "        \n",
    "df.drop(columns=features_null_std, inplace=True)"
   ]
  },
  {
   "cell_type": "code",
   "execution_count": 199,
   "id": "51a3ee08",
   "metadata": {},
   "outputs": [
    {
     "data": {
      "text/plain": [
       "(5813, 41)"
      ]
     },
     "execution_count": 199,
     "metadata": {},
     "output_type": "execute_result"
    }
   ],
   "source": [
    "df.shape"
   ]
  },
  {
   "cell_type": "markdown",
   "id": "77b3a86e",
   "metadata": {},
   "source": [
    "### Drop corrected features"
   ]
  },
  {
   "cell_type": "code",
   "execution_count": 200,
   "id": "2dbec33e",
   "metadata": {},
   "outputs": [],
   "source": [
    "corrected_features_drop = ['Qwat MPFM corrected', 'Qoil MPFM corrected', 'Qliq MPFM corrected', 'Qgas MPFM corrected']\n",
    "df.drop(columns=corrected_features_drop, inplace=True)"
   ]
  },
  {
   "cell_type": "markdown",
   "id": "d0f67b47",
   "metadata": {},
   "source": [
    "### Drop choke features"
   ]
  },
  {
   "cell_type": "code",
   "execution_count": 201,
   "id": "20ffd2f4",
   "metadata": {},
   "outputs": [],
   "source": [
    "choke_features_drop = ['Choke Opening Calc1', 'Choke Opening Calc2', 'Choke Measured', 'Choke Calculated', 'Choke CCR']\n",
    "df.drop(columns=choke_features_drop, inplace = True)"
   ]
  },
  {
   "cell_type": "markdown",
   "id": "83ad166e",
   "metadata": {},
   "source": [
    "### Drop correlated features"
   ]
  },
  {
   "cell_type": "code",
   "execution_count": 202,
   "id": "351b7e59",
   "metadata": {},
   "outputs": [],
   "source": [
    "features_corr_drop = ['Qwat PC', 'Qgas PC', 'Qoil PC', 'Tubing dP','MPFM P', 'Qliq MPFM', 'Qwat MPFM']\n",
    "df.drop(columns=features_corr_drop, inplace = True)"
   ]
  },
  {
   "cell_type": "markdown",
   "id": "9eb026b6",
   "metadata": {},
   "source": [
    "### Drop features in remove dictionary"
   ]
  },
  {
   "cell_type": "code",
   "execution_count": 203,
   "id": "b5db2993",
   "metadata": {},
   "outputs": [],
   "source": [
    "remove = {\"Sand Rate\", \"MPFM NTotal Count Rate\", \"MPFM N81 Count Rate\", \"MPFM N356 Count Rate\", \"MPFM N32 Count Rate\", \"MPFM GOR\", \"Downhole Gauge T\", \"Downhole Gauge P\"}"
   ]
  },
  {
   "cell_type": "code",
   "execution_count": 204,
   "id": "19fae570",
   "metadata": {},
   "outputs": [],
   "source": [
    "df.drop(columns=remove, inplace=True)"
   ]
  },
  {
   "cell_type": "markdown",
   "id": "2995e2e2",
   "metadata": {},
   "source": [
    "### Drop the Date"
   ]
  },
  {
   "cell_type": "code",
   "execution_count": 205,
   "id": "31cd7811",
   "metadata": {},
   "outputs": [],
   "source": [
    "df.drop(columns='Date', inplace=True)"
   ]
  },
  {
   "cell_type": "markdown",
   "id": "9f187b6b",
   "metadata": {},
   "source": [
    "## Impute features with <30% NaN values"
   ]
  },
  {
   "cell_type": "code",
   "execution_count": 206,
   "id": "295d9b78",
   "metadata": {},
   "outputs": [],
   "source": [
    "for feature in df.columns:\n",
    "    df[feature].replace(np.nan, df[feature].median(), inplace=True)"
   ]
  },
  {
   "cell_type": "code",
   "execution_count": 207,
   "id": "176c8147",
   "metadata": {},
   "outputs": [
    {
     "data": {
      "text/plain": [
       "WHT                0\n",
       "WHP                0\n",
       "Tubing Gradient    0\n",
       "Service Line P     0\n",
       "Sand Raw           0\n",
       "Qoil MPFM          0\n",
       "Qgas MPFM          0\n",
       "MPFM WCT           0\n",
       "MPFM Venturi dP    0\n",
       "MPFM T             0\n",
       "MPFM CF GOR        0\n",
       "Manifold T         0\n",
       "Manifold P         0\n",
       "Jumper T           0\n",
       "Choke Opening      0\n",
       "Annulus P          0\n",
       "dtype: int64"
      ]
     },
     "execution_count": 207,
     "metadata": {},
     "output_type": "execute_result"
    }
   ],
   "source": [
    "df.isnull().sum()"
   ]
  },
  {
   "cell_type": "markdown",
   "id": "9efa10c1",
   "metadata": {},
   "source": [
    "## Visualising the Time Series"
   ]
  },
  {
   "cell_type": "code",
   "execution_count": 208,
   "id": "46b0b765",
   "metadata": {},
   "outputs": [],
   "source": [
    "TARGET = 'Qoil MPFM'\n",
    "N_TARGETS = 1\n",
    "N_FEATURES = 3 "
   ]
  },
  {
   "cell_type": "code",
   "execution_count": 209,
   "id": "c182a8e4",
   "metadata": {},
   "outputs": [
    {
     "data": {
      "image/png": "[encoded data removed]",
      "text/plain": [
       "<Figure size 640x480 with 2 Axes>"
      ]
     },
     "metadata": {},
     "output_type": "display_data"
    }
   ],
   "source": [
    "plot_cols = [TARGET, 'Qgas MPFM']\n",
    "plot_features = df[plot_cols]\n",
    "plot_features.index = df.index\n",
    "plot_features.plot(subplots = True);"
   ]
  },
  {
   "cell_type": "code",
   "execution_count": 210,
   "id": "961050a1",
   "metadata": {},
   "outputs": [
    {
     "data": {
      "image/png": "[encoded data removed]",
      "text/plain": [
       "<Figure size 640x480 with 2 Axes>"
      ]
     },
     "metadata": {},
     "output_type": "display_data"
    }
   ],
   "source": [
    "zoomed_slice = slice(2000,3100)\n",
    "\n",
    "plot_features = df.loc[zoomed_slice, plot_cols]\n",
    "plot_features.plot(subplots = True);"
   ]
  },
  {
   "cell_type": "markdown",
   "id": "b313639d",
   "metadata": {},
   "source": [
    "## Prepare the dataset"
   ]
  },
  {
   "cell_type": "markdown",
   "id": "13f0099a",
   "metadata": {},
   "source": [
    "### The big picture"
   ]
  },
  {
   "cell_type": "markdown",
   "id": "eca6fd46",
   "metadata": {},
   "source": [
    "Step 1: Cross validation in time series (folds):\n",
    "    - we'll create folds and train/evaluate our LSTM on these different folds about the robustness of the neural network\n",
    "\n",
    "Step 2: Holdout method within each fold (train-test-split) to:\n",
    "    - fit the model on the train set;\n",
    "    - and evaluate it on the test set;\n",
    "    - always split the train set chronologically before the test set\n",
    "    \n",
    "Step 3: Sampling sequences in both the train set and the test set"
   ]
  },
  {
   "cell_type": "markdown",
   "id": "30606997",
   "metadata": {},
   "source": [
    "### Creating folds for cross-validation"
   ]
  },
  {
   "cell_type": "code",
   "execution_count": 211,
   "id": "5bd5d598",
   "metadata": {},
   "outputs": [
    {
     "data": {
      "text/html": [
       "<div>\n",
       "<style scoped>\n",
       "    .dataframe tbody tr th:only-of-type {\n",
       "        vertical-align: middle;\n",
       "    }\n",
       "\n",
       "    .dataframe tbody tr th {\n",
       "        vertical-align: top;\n",
       "    }\n",
       "\n",
       "    .dataframe thead th {\n",
       "        text-align: right;\n",
       "    }\n",
       "</style>\n",
       "<table border=\"1\" class=\"dataframe\">\n",
       "  <thead>\n",
       "    <tr style=\"text-align: right;\">\n",
       "      <th></th>\n",
       "      <th>MPFM Venturi dP</th>\n",
       "      <th>WHT</th>\n",
       "      <th>Qoil MPFM</th>\n",
       "    </tr>\n",
       "  </thead>\n",
       "  <tbody>\n",
       "    <tr>\n",
       "      <th>0</th>\n",
       "      <td>1672.997986</td>\n",
       "      <td>51.247467</td>\n",
       "      <td>14065.431937</td>\n",
       "    </tr>\n",
       "    <tr>\n",
       "      <th>1</th>\n",
       "      <td>1672.997986</td>\n",
       "      <td>51.247467</td>\n",
       "      <td>14065.431937</td>\n",
       "    </tr>\n",
       "    <tr>\n",
       "      <th>2</th>\n",
       "      <td>1672.997986</td>\n",
       "      <td>51.247467</td>\n",
       "      <td>14065.431937</td>\n",
       "    </tr>\n",
       "    <tr>\n",
       "      <th>3</th>\n",
       "      <td>1672.997986</td>\n",
       "      <td>51.247467</td>\n",
       "      <td>14065.431937</td>\n",
       "    </tr>\n",
       "    <tr>\n",
       "      <th>4</th>\n",
       "      <td>1672.997986</td>\n",
       "      <td>51.247467</td>\n",
       "      <td>14065.431937</td>\n",
       "    </tr>\n",
       "    <tr>\n",
       "      <th>...</th>\n",
       "      <td>...</td>\n",
       "      <td>...</td>\n",
       "      <td>...</td>\n",
       "    </tr>\n",
       "    <tr>\n",
       "      <th>5808</th>\n",
       "      <td>1687.935181</td>\n",
       "      <td>51.966740</td>\n",
       "      <td>10925.670806</td>\n",
       "    </tr>\n",
       "    <tr>\n",
       "      <th>5809</th>\n",
       "      <td>1719.284912</td>\n",
       "      <td>51.968021</td>\n",
       "      <td>11142.564473</td>\n",
       "    </tr>\n",
       "    <tr>\n",
       "      <th>5810</th>\n",
       "      <td>1742.380127</td>\n",
       "      <td>51.972717</td>\n",
       "      <td>11140.120568</td>\n",
       "    </tr>\n",
       "    <tr>\n",
       "      <th>5811</th>\n",
       "      <td>1729.632324</td>\n",
       "      <td>51.982071</td>\n",
       "      <td>11400.139595</td>\n",
       "    </tr>\n",
       "    <tr>\n",
       "      <th>5812</th>\n",
       "      <td>1781.585205</td>\n",
       "      <td>51.970646</td>\n",
       "      <td>11193.020395</td>\n",
       "    </tr>\n",
       "  </tbody>\n",
       "</table>\n",
       "<p>5813 rows × 3 columns</p>\n",
       "</div>"
      ],
      "text/plain": [
       "      MPFM Venturi dP        WHT     Qoil MPFM\n",
       "0         1672.997986  51.247467  14065.431937\n",
       "1         1672.997986  51.247467  14065.431937\n",
       "2         1672.997986  51.247467  14065.431937\n",
       "3         1672.997986  51.247467  14065.431937\n",
       "4         1672.997986  51.247467  14065.431937\n",
       "...               ...        ...           ...\n",
       "5808      1687.935181  51.966740  10925.670806\n",
       "5809      1719.284912  51.968021  11142.564473\n",
       "5810      1742.380127  51.972717  11140.120568\n",
       "5811      1729.632324  51.982071  11400.139595\n",
       "5812      1781.585205  51.970646  11193.020395\n",
       "\n",
       "[5813 rows x 3 columns]"
      ]
     },
     "execution_count": 211,
     "metadata": {},
     "output_type": "execute_result"
    }
   ],
   "source": [
    "df_LSTM = df[['MPFM Venturi dP', 'WHT', 'Qoil MPFM']]\n",
    "df_LSTM"
   ]
  },
  {
   "cell_type": "code",
   "execution_count": 212,
   "id": "bd739d45",
   "metadata": {},
   "outputs": [],
   "source": [
    "# --------------------------------------------------- #\n",
    "# Let's consider FOLDS with a length of 3 years       #\n",
    "# (2 years will be used for train, 1 for test!)       #\n",
    "# --------------------------------------------------- #\n",
    "\n",
    "FOLD_LENGTH = 365 * 6 # six years\n",
    "\n",
    "# --------------------------------------------------- #\n",
    "# Let's consider FOLDS starting every trimester       #\n",
    "# --------------------------------------------------- #\n",
    "    \n",
    "FOLD_STRIDE = 91 # 1 quarter = 91 days\n",
    "\n",
    "# --------------------------------------------------- #\n",
    "# Let's consider a train-test-split ratio of 2/3      #\n",
    "# --------------------------------------------------- #\n",
    "\n",
    "TRAIN_TEST_RATIO = 0.66"
   ]
  },
  {
   "cell_type": "code",
   "execution_count": 213,
   "id": "b6107a35",
   "metadata": {},
   "outputs": [],
   "source": [
    "def get_folds(\n",
    "    df: pd.DataFrame,\n",
    "    fold_length: int,\n",
    "    fold_stride: int) -> list[pd.DataFrame]:\n",
    "    '''\n",
    "    This function slides through the Time Series dataframe of shape (n_timesteps, n_features) to create folds\n",
    "    - of equal `fold_length`\n",
    "    - using `fold_stride` between each fold\n",
    "    \n",
    "    Returns a list of folds, each as a DataFrame\n",
    "    '''\n",
    "    fold_list = []\n",
    "    \n",
    "    \n",
    "    for i in range(0, len(df), fold_stride):\n",
    "        if i + fold_length >= len(df):\n",
    "            break\n",
    "        fold_list.append(df[i:fold_length])\n",
    "    \n",
    "    return fold_list"
   ]
  },
  {
   "cell_type": "code",
   "execution_count": 214,
   "id": "0f764fb5",
   "metadata": {},
   "outputs": [
    {
     "name": "stdout",
     "output_type": "stream",
     "text": [
      "The function generated 40 folds.\n",
      "Each fold has a shape equal to (2190, 3).\n"
     ]
    }
   ],
   "source": [
    "folds = get_folds(df_LSTM, FOLD_LENGTH, FOLD_STRIDE)\n",
    "\n",
    "print(f'The function generated {len(folds)} folds.')\n",
    "print(f'Each fold has a shape equal to {folds[0].shape}.')"
   ]
  },
  {
   "cell_type": "markdown",
   "id": "e3daf9d0",
   "metadata": {},
   "source": [
    "### Temporal Train/Test Split"
   ]
  },
  {
   "cell_type": "markdown",
   "id": "ea660ee5",
   "metadata": {},
   "source": [
    "Focus on 1 fold for the moment:"
   ]
  },
  {
   "cell_type": "code",
   "execution_count": 215,
   "id": "c4e047ff",
   "metadata": {},
   "outputs": [
    {
     "data": {
      "text/html": [
       "<div>\n",
       "<style scoped>\n",
       "    .dataframe tbody tr th:only-of-type {\n",
       "        vertical-align: middle;\n",
       "    }\n",
       "\n",
       "    .dataframe tbody tr th {\n",
       "        vertical-align: top;\n",
       "    }\n",
       "\n",
       "    .dataframe thead th {\n",
       "        text-align: right;\n",
       "    }\n",
       "</style>\n",
       "<table border=\"1\" class=\"dataframe\">\n",
       "  <thead>\n",
       "    <tr style=\"text-align: right;\">\n",
       "      <th></th>\n",
       "      <th>MPFM Venturi dP</th>\n",
       "      <th>WHT</th>\n",
       "      <th>Qoil MPFM</th>\n",
       "    </tr>\n",
       "  </thead>\n",
       "  <tbody>\n",
       "    <tr>\n",
       "      <th>0</th>\n",
       "      <td>1672.997986</td>\n",
       "      <td>51.247467</td>\n",
       "      <td>14065.431937</td>\n",
       "    </tr>\n",
       "    <tr>\n",
       "      <th>1</th>\n",
       "      <td>1672.997986</td>\n",
       "      <td>51.247467</td>\n",
       "      <td>14065.431937</td>\n",
       "    </tr>\n",
       "    <tr>\n",
       "      <th>2</th>\n",
       "      <td>1672.997986</td>\n",
       "      <td>51.247467</td>\n",
       "      <td>14065.431937</td>\n",
       "    </tr>\n",
       "    <tr>\n",
       "      <th>3</th>\n",
       "      <td>1672.997986</td>\n",
       "      <td>51.247467</td>\n",
       "      <td>14065.431937</td>\n",
       "    </tr>\n",
       "    <tr>\n",
       "      <th>4</th>\n",
       "      <td>1672.997986</td>\n",
       "      <td>51.247467</td>\n",
       "      <td>14065.431937</td>\n",
       "    </tr>\n",
       "    <tr>\n",
       "      <th>...</th>\n",
       "      <td>...</td>\n",
       "      <td>...</td>\n",
       "      <td>...</td>\n",
       "    </tr>\n",
       "    <tr>\n",
       "      <th>2185</th>\n",
       "      <td>4440.488770</td>\n",
       "      <td>50.234428</td>\n",
       "      <td>17033.866361</td>\n",
       "    </tr>\n",
       "    <tr>\n",
       "      <th>2186</th>\n",
       "      <td>4339.430664</td>\n",
       "      <td>50.448097</td>\n",
       "      <td>17049.719495</td>\n",
       "    </tr>\n",
       "    <tr>\n",
       "      <th>2187</th>\n",
       "      <td>4462.657715</td>\n",
       "      <td>50.312836</td>\n",
       "      <td>17144.442110</td>\n",
       "    </tr>\n",
       "    <tr>\n",
       "      <th>2188</th>\n",
       "      <td>4526.409668</td>\n",
       "      <td>50.242947</td>\n",
       "      <td>17705.125916</td>\n",
       "    </tr>\n",
       "    <tr>\n",
       "      <th>2189</th>\n",
       "      <td>4695.399902</td>\n",
       "      <td>50.176456</td>\n",
       "      <td>17083.493060</td>\n",
       "    </tr>\n",
       "  </tbody>\n",
       "</table>\n",
       "<p>2190 rows × 3 columns</p>\n",
       "</div>"
      ],
      "text/plain": [
       "      MPFM Venturi dP        WHT     Qoil MPFM\n",
       "0         1672.997986  51.247467  14065.431937\n",
       "1         1672.997986  51.247467  14065.431937\n",
       "2         1672.997986  51.247467  14065.431937\n",
       "3         1672.997986  51.247467  14065.431937\n",
       "4         1672.997986  51.247467  14065.431937\n",
       "...               ...        ...           ...\n",
       "2185      4440.488770  50.234428  17033.866361\n",
       "2186      4339.430664  50.448097  17049.719495\n",
       "2187      4462.657715  50.312836  17144.442110\n",
       "2188      4526.409668  50.242947  17705.125916\n",
       "2189      4695.399902  50.176456  17083.493060\n",
       "\n",
       "[2190 rows x 3 columns]"
      ]
     },
     "execution_count": 215,
     "metadata": {},
     "output_type": "execute_result"
    }
   ],
   "source": [
    "fold = folds[0]\n",
    "fold"
   ]
  },
  {
   "cell_type": "markdown",
   "id": "7c21afc6",
   "metadata": {},
   "source": [
    "Split the fold above chronologically into a train dataframe and a test dataframe"
   ]
  },
  {
   "cell_type": "code",
   "execution_count": 216,
   "id": "7d717b18",
   "metadata": {},
   "outputs": [],
   "source": [
    "INPUT_LENGTH = 14 #two weeks"
   ]
  },
  {
   "cell_type": "code",
   "execution_count": 217,
   "id": "3f77859b",
   "metadata": {},
   "outputs": [],
   "source": [
    "def train_test_split(fold:pd.DataFrame,\n",
    "                     train_test_ratio: float,\n",
    "                     input_length: int) -> tuple[pd.DataFrame]:\n",
    "    '''\n",
    "    Returns a train dataframe and a test dataframe (fold_train, fold_test)\n",
    "    from which one can sample (X,y) sequences.\n",
    "    df_train should contain all the timesteps until round(train_test_ratio * len(fold))   \n",
    "    '''\n",
    "    fold_train = fold[0: round(train_test_ratio * len(fold))]\n",
    "    fold_test = fold[round(train_test_ratio * len(fold)) - input_length:]\n",
    "    \n",
    "    return fold_train, fold_test"
   ]
  },
  {
   "cell_type": "code",
   "execution_count": 218,
   "id": "b3288680",
   "metadata": {},
   "outputs": [],
   "source": [
    "(fold_train, fold_test) = train_test_split(fold, TRAIN_TEST_RATIO, INPUT_LENGTH)"
   ]
  },
  {
   "cell_type": "markdown",
   "id": "70b0dd56",
   "metadata": {},
   "source": [
    "### Create (X,y) sequences"
   ]
  },
  {
   "cell_type": "code",
   "execution_count": 219,
   "id": "9e214fb5",
   "metadata": {},
   "outputs": [
    {
     "name": "stdout",
     "output_type": "stream",
     "text": [
      "N_FEATURES = 3\n",
      "INPUT_LENGTH = 14 days = 2 weeks\n"
     ]
    }
   ],
   "source": [
    "# INPUT X\n",
    "print(f'N_FEATURES = {N_FEATURES}')\n",
    "print(f'INPUT_LENGTH = {INPUT_LENGTH} days = {int(INPUT_LENGTH/7)} weeks')"
   ]
  },
  {
   "cell_type": "code",
   "execution_count": 220,
   "id": "575368f3",
   "metadata": {},
   "outputs": [
    {
     "name": "stdout",
     "output_type": "stream",
     "text": [
      "N_TARGETS = 1\n",
      "OUTPUT_LENGTH = 1\n"
     ]
    }
   ],
   "source": [
    "# TARGET Y\n",
    "print(f'N_TARGETS = {N_TARGETS}')\n",
    "\n",
    "# Let's only predict 1 value ahead of us\n",
    "OUTPUT_LENGTH = 1\n",
    "print(f'OUTPUT_LENGTH = {OUTPUT_LENGTH}')"
   ]
  },
  {
   "cell_type": "code",
   "execution_count": 221,
   "id": "4ca955ef",
   "metadata": {},
   "outputs": [],
   "source": [
    "def get_Xi_yi(\n",
    "    fold:pd.DataFrame, \n",
    "    input_length:int, \n",
    "    output_length:int):\n",
    "    '''\n",
    "    - given a fold, it returns one sequence (X_i, y_i)\n",
    "    - with the starting point of the sequence being chosen at random\n",
    "    '''\n",
    "    random_number = np.random.randint(0,len(fold) - (input_length + output_length) + 1)\n",
    "\n",
    "    X_i = fold.iloc[random_number : random_number + input_length]\n",
    "    y_i = fold.iloc[random_number + input_length : random_number + input_length + output_length][[TARGET]]\n",
    "    \n",
    "    return (X_i, y_i)"
   ]
  },
  {
   "cell_type": "code",
   "execution_count": 222,
   "id": "392739ce",
   "metadata": {},
   "outputs": [],
   "source": [
    "X_train_i, y_train_i = get_Xi_yi(fold_train, INPUT_LENGTH, OUTPUT_LENGTH)\n",
    "X_test_i, y_test_i = get_Xi_yi(fold_test, INPUT_LENGTH, OUTPUT_LENGTH)"
   ]
  },
  {
   "cell_type": "code",
   "execution_count": 223,
   "id": "d2f1307a",
   "metadata": {},
   "outputs": [],
   "source": [
    "# Advanced check 😈 \n",
    "# You should not allow some truncated (X_i,y_i) pairs to be generating,\n",
    "# should you start sampling too close from the end of the fold... !\n",
    "\n",
    "X_last, y_last = get_Xi_yi(fold_test, input_length=len(fold_test)-1, output_length=OUTPUT_LENGTH)\n",
    "assert y_last.values == fold_test.iloc[-1,:][TARGET]"
   ]
  },
  {
   "cell_type": "code",
   "execution_count": 224,
   "id": "b4dd1125",
   "metadata": {},
   "outputs": [
    {
     "data": {
      "text/plain": [
       "(14, 3)"
      ]
     },
     "execution_count": 224,
     "metadata": {},
     "output_type": "execute_result"
    }
   ],
   "source": [
    "X_train_i.shape"
   ]
  },
  {
   "cell_type": "markdown",
   "id": "02bf72ad",
   "metadata": {},
   "source": [
    "### Scanning chronologically"
   ]
  },
  {
   "cell_type": "markdown",
   "id": "7e3a26cb",
   "metadata": {},
   "source": [
    "Let's scan the fold with a temporal stride of 1 day (the minimum one)"
   ]
  },
  {
   "cell_type": "code",
   "execution_count": 225,
   "id": "a6fff37e",
   "metadata": {},
   "outputs": [],
   "source": [
    "SEQUENCE_STRIDE = 1"
   ]
  },
  {
   "cell_type": "code",
   "execution_count": 226,
   "id": "bc74bac0",
   "metadata": {},
   "outputs": [],
   "source": [
    "def get_X_y_strides(fold: pd.DataFrame, input_length: int, output_length: int, sequence_stride: int):\n",
    "    '''\n",
    "    - slides through a `fold` Time Series (2D array) to create sequences of equal\n",
    "        * `input_length` for X,\n",
    "        * `output_length` for y,\n",
    "    using a temporal gap `sequence_stride` between each sequence\n",
    "    - returns a list of sequences, each as a 2D-array time series\n",
    "    '''\n",
    "\n",
    "    X, y = [], []\n",
    "\n",
    "    for i in range(0, len(fold), sequence_stride):\n",
    "        # Exits the loop as soon as the last fold index would exceed the last index\n",
    "        if (i + input_length + output_length) >= len(fold):\n",
    "            break\n",
    "        X_i = fold.iloc[i:i + input_length, :]\n",
    "        y_i = fold.iloc[i + input_length:i + input_length + output_length, :][[TARGET]]\n",
    "        X.append(X_i)\n",
    "        y.append(y_i)\n",
    "\n",
    "    return np.array(X), np.array(y)"
   ]
  },
  {
   "cell_type": "code",
   "execution_count": 227,
   "id": "16cfb8e1",
   "metadata": {},
   "outputs": [
    {
     "name": "stdout",
     "output_type": "stream",
     "text": [
      "FOLD_LENGTH\n",
      "= 2190 days\n",
      "= 312 weeks\n"
     ]
    }
   ],
   "source": [
    "print(\"FOLD_LENGTH\") \n",
    "print(f\"= {int(FOLD_LENGTH)} days\")\n",
    "print(f\"= {int(FOLD_LENGTH/7)} weeks\")"
   ]
  },
  {
   "cell_type": "code",
   "execution_count": 228,
   "id": "5a9d6998",
   "metadata": {},
   "outputs": [
    {
     "name": "stdout",
     "output_type": "stream",
     "text": [
      "(1430, 14, 3)\n",
      "(1430, 1, 1)\n"
     ]
    }
   ],
   "source": [
    "X_train, y_train = get_X_y_strides(fold_train, INPUT_LENGTH, OUTPUT_LENGTH, SEQUENCE_STRIDE)\n",
    "X_test, y_test = get_X_y_strides(fold_test, INPUT_LENGTH, OUTPUT_LENGTH, SEQUENCE_STRIDE)\n",
    "\n",
    "print(X_train.shape)\n",
    "print(y_train.shape)"
   ]
  },
  {
   "cell_type": "markdown",
   "id": "c9e170fe",
   "metadata": {},
   "source": [
    "## Modeling"
   ]
  },
  {
   "cell_type": "markdown",
   "id": "2ffbcb30",
   "metadata": {},
   "source": [
    "### LSTM"
   ]
  },
  {
   "cell_type": "markdown",
   "id": "0f94d5ed",
   "metadata": {},
   "source": [
    "Create a function init_model which builds and compiles a simple Recurrent Neural Network with an LSTM layer"
   ]
  },
  {
   "cell_type": "code",
   "execution_count": 229,
   "id": "9a4aacb8",
   "metadata": {},
   "outputs": [
    {
     "data": {
      "text/plain": [
       "(1430, 14, 3)"
      ]
     },
     "execution_count": 229,
     "metadata": {},
     "output_type": "execute_result"
    }
   ],
   "source": [
    "X_train.shape"
   ]
  },
  {
   "cell_type": "code",
   "execution_count": 230,
   "id": "eec71e93",
   "metadata": {},
   "outputs": [],
   "source": [
    "from tensorflow.keras import models\n",
    "from tensorflow.keras import layers\n",
    "from tensorflow.keras import optimizers, metrics\n",
    "from tensorflow.keras.regularizers import L1L2\n",
    "from tensorflow.keras.layers import Normalization\n",
    "from tensorflow.keras.callbacks import EarlyStopping"
   ]
  },
  {
   "cell_type": "code",
   "execution_count": 231,
   "id": "b1c9280b",
   "metadata": {},
   "outputs": [],
   "source": [
    "def plot_history(history):\n",
    "    \n",
    "    fig, ax = plt.subplots(1,2, figsize=(20,7))\n",
    "    # --- LOSS: MSE --- \n",
    "    ax[0].plot(history.history['loss'])\n",
    "    ax[0].plot(history.history['val_loss'])\n",
    "    ax[0].set_title('MSE')\n",
    "    ax[0].set_ylabel('Loss')\n",
    "    ax[0].set_xlabel('Epoch')\n",
    "    ax[0].legend(['Train', 'Validation'], loc='best')\n",
    "    ax[0].grid(axis=\"x\",linewidth=0.5)\n",
    "    ax[0].grid(axis=\"y\",linewidth=0.5)\n",
    "    \n",
    "    # --- METRICS:MAE ---\n",
    "    \n",
    "    ax[1].plot(history.history['mae'])\n",
    "    ax[1].plot(history.history['val_mae'])\n",
    "    ax[1].set_title('MAE')\n",
    "    ax[1].set_ylabel('MAE')\n",
    "    ax[1].set_xlabel('Epoch')\n",
    "    ax[1].legend(['Train', 'Validation'], loc='best')\n",
    "    ax[1].grid(axis=\"x\",linewidth=0.5)\n",
    "    ax[1].grid(axis=\"y\",linewidth=0.5)\n",
    "                        \n",
    "    return ax"
   ]
  },
  {
   "cell_type": "markdown",
   "id": "66f196d0",
   "metadata": {
    "heading_collapsed": true
   },
   "source": [
    "#### Baseline model"
   ]
  },
  {
   "cell_type": "code",
   "execution_count": 243,
   "id": "499ead20",
   "metadata": {
    "hidden": true
   },
   "outputs": [],
   "source": [
    "from tensorflow.keras.layers import Lambda\n",
    "\n",
    "def init_baseline():\n",
    "\n",
    "    model = models.Sequential()\n",
    "    model.add(Lambda(lambda x: x[:, -1, 1, None]))\n",
    "    \n",
    "    adam = optimizers.Adam(learning_rate = 0.02)\n",
    "    \n",
    "    model.compile(loss='mse',\n",
    "                 optimizer=adam,\n",
    "                 metrics=['mae'])\n",
    "    \n",
    "    return model"
   ]
  },
  {
   "cell_type": "code",
   "execution_count": 244,
   "id": "bc2fca3e",
   "metadata": {
    "hidden": true
   },
   "outputs": [
    {
     "name": "stdout",
     "output_type": "stream",
     "text": [
      "24/24 [==============================] - 0s 347us/step - loss: 276075424.0000 - mae: 15974.0498\n",
      "- The Baseline MAE on the test set is equal to 15974.05 m3\n"
     ]
    }
   ],
   "source": [
    "baseline_model = init_baseline()\n",
    "baseline_score = baseline_model.evaluate(X_test, y_test)\n",
    "print(f\"- The Baseline MAE on the test set is equal to {round(baseline_score[1],2)} m3\")"
   ]
  },
  {
   "cell_type": "markdown",
   "id": "1403bef7",
   "metadata": {},
   "source": [
    "#### Initial model from Weather prediction challenge but with batch_size=8 and epochs=150"
   ]
  },
  {
   "cell_type": "code",
   "execution_count": 534,
   "id": "ea492f4b",
   "metadata": {},
   "outputs": [],
   "source": [
    "def init_model(X_train, y_train):\n",
    "    \n",
    "    #normalization\n",
    "    normalizer = Normalization()\n",
    "    normalizer.adapt(X_train)\n",
    "    \n",
    "    #arquitecture\n",
    "    model = models.Sequential()\n",
    "    model.add(normalizer)\n",
    "    model.add(layers.LSTM(64, activation='tanh', kernel_regularizer=L1L2(l1=0.05, l2=0.05)))\n",
    "    output_len = y_train.shape[1]\n",
    "    model.add(layers.Dense(output_len, activation='linear'))\n",
    "    \n",
    "    #compile\n",
    "    adam = optimizers.Adam(learning_rate=0.02)\n",
    "    \n",
    "    model.compile(loss='mse',\n",
    "                 optimizer=adam,\n",
    "                 metrics=['mae'])\n",
    "    \n",
    "    return model"
   ]
  },
  {
   "cell_type": "code",
   "execution_count": 535,
   "id": "908ec43d",
   "metadata": {},
   "outputs": [
    {
     "name": "stdout",
     "output_type": "stream",
     "text": [
      "Model: \"sequential_86\"\n",
      "_________________________________________________________________\n",
      " Layer (type)                Output Shape              Param #   \n",
      "=================================================================\n",
      " normalization_85 (Normaliza  (None, None, 3)          7         \n",
      " tion)                                                           \n",
      "                                                                 \n",
      " lstm_94 (LSTM)              (None, 64)                17408     \n",
      "                                                                 \n",
      " dense_80 (Dense)            (None, 1)                 65        \n",
      "                                                                 \n",
      "=================================================================\n",
      "Total params: 17,480\n",
      "Trainable params: 17,473\n",
      "Non-trainable params: 7\n",
      "_________________________________________________________________\n"
     ]
    }
   ],
   "source": [
    "model_init = init_model(X_train, y_train)\n",
    "model_init.summary()"
   ]
  },
  {
   "cell_type": "code",
   "execution_count": 536,
   "id": "1aff758b",
   "metadata": {},
   "outputs": [],
   "source": [
    "es = EarlyStopping(patience=5, restore_best_weights=True)\n",
    "\n",
    "def fit_model(model: models, verbose=1) -> tuple[models, dict]:\n",
    "    \n",
    "    history = model.fit(X_train, y_train,\n",
    "                        validation_split=0.3,\n",
    "                        shuffle = False,\n",
    "                        batch_size=8,\n",
    "                        epochs=150,\n",
    "                        verbose=1,\n",
    "                        callbacks=[es]\n",
    "                       )\n",
    "    \n",
    "    return (model, history)"
   ]
  },
  {
   "cell_type": "code",
   "execution_count": 537,
   "id": "be69f76b",
   "metadata": {},
   "outputs": [
    {
     "name": "stdout",
     "output_type": "stream",
     "text": [
      "Epoch 1/150\n",
      "125/125 [==============================] - 1s 4ms/step - loss: 996291136.0000 - mae: 30744.8535 - val_loss: 365788736.0000 - val_mae: 17617.0566\n",
      "Epoch 2/150\n",
      "125/125 [==============================] - 0s 2ms/step - loss: 987842432.0000 - mae: 30609.7168 - val_loss: 361047200.0000 - val_mae: 17508.2480\n",
      "Epoch 3/150\n",
      "125/125 [==============================] - 0s 2ms/step - loss: 979383424.0000 - mae: 30473.9785 - val_loss: 356379552.0000 - val_mae: 17400.3770\n",
      "Epoch 4/150\n",
      "125/125 [==============================] - 0s 2ms/step - loss: 971022016.0000 - mae: 30339.2207 - val_loss: 351763424.0000 - val_mae: 17292.9258\n",
      "Epoch 5/150\n",
      "125/125 [==============================] - 0s 2ms/step - loss: 962692224.0000 - mae: 30204.3145 - val_loss: 347056864.0000 - val_mae: 17183.1133\n",
      "Epoch 6/150\n",
      "125/125 [==============================] - 0s 2ms/step - loss: 954108608.0000 - mae: 30064.5938 - val_loss: 342353696.0000 - val_mae: 17072.1738\n",
      "Epoch 7/150\n",
      "125/125 [==============================] - 0s 2ms/step - loss: 945659520.0000 - mae: 29926.5391 - val_loss: 337704288.0000 - val_mae: 16961.7539\n",
      "Epoch 8/150\n",
      "125/125 [==============================] - 0s 2ms/step - loss: 937324992.0000 - mae: 29789.6680 - val_loss: 333096064.0000 - val_mae: 16852.0293\n",
      "Epoch 9/150\n",
      "125/125 [==============================] - 0s 2ms/step - loss: 929069248.0000 - mae: 29653.4746 - val_loss: 328585504.0000 - val_mae: 16741.3828\n",
      "Epoch 10/150\n",
      "125/125 [==============================] - 0s 2ms/step - loss: 920881664.0000 - mae: 29517.7578 - val_loss: 324136896.0000 - val_mae: 16633.2324\n",
      "Epoch 11/150\n",
      "125/125 [==============================] - 0s 2ms/step - loss: 912755392.0000 - mae: 29382.6758 - val_loss: 319737088.0000 - val_mae: 16525.6133\n",
      "Epoch 12/150\n",
      "125/125 [==============================] - 0s 2ms/step - loss: 904687296.0000 - mae: 29247.9434 - val_loss: 315383712.0000 - val_mae: 16418.5254\n",
      "Epoch 13/150\n",
      "125/125 [==============================] - 0s 2ms/step - loss: 896673600.0000 - mae: 29113.5059 - val_loss: 311074688.0000 - val_mae: 16311.4141\n",
      "Epoch 14/150\n",
      "125/125 [==============================] - 0s 2ms/step - loss: 888576832.0000 - mae: 28976.9512 - val_loss: 306788992.0000 - val_mae: 16203.5918\n",
      "Epoch 15/150\n",
      "125/125 [==============================] - 0s 2ms/step - loss: 880192448.0000 - mae: 28834.8535 - val_loss: 302166912.0000 - val_mae: 16087.9307\n",
      "Epoch 16/150\n",
      "125/125 [==============================] - 0s 2ms/step - loss: 872026688.0000 - mae: 28695.8711 - val_loss: 297845696.0000 - val_mae: 15978.2500\n",
      "Epoch 17/150\n",
      "125/125 [==============================] - 0s 2ms/step - loss: 863976896.0000 - mae: 28558.1582 - val_loss: 293588800.0000 - val_mae: 15869.2764\n",
      "Epoch 18/150\n",
      "125/125 [==============================] - 0s 2ms/step - loss: 856008576.0000 - mae: 28421.1543 - val_loss: 289386368.0000 - val_mae: 15760.7803\n",
      "Epoch 19/150\n",
      "125/125 [==============================] - 0s 2ms/step - loss: 848108864.0000 - mae: 28284.6641 - val_loss: 285234016.0000 - val_mae: 15652.8027\n",
      "Epoch 20/150\n",
      "125/125 [==============================] - 0s 2ms/step - loss: 840270592.0000 - mae: 28148.5586 - val_loss: 281127264.0000 - val_mae: 15544.9863\n",
      "Epoch 21/150\n",
      "125/125 [==============================] - 0s 2ms/step - loss: 832489088.0000 - mae: 28012.7676 - val_loss: 277064384.0000 - val_mae: 15436.9307\n",
      "Epoch 22/150\n",
      "125/125 [==============================] - 0s 2ms/step - loss: 824761664.0000 - mae: 27877.2578 - val_loss: 273037920.0000 - val_mae: 15328.6357\n",
      "Epoch 23/150\n",
      "125/125 [==============================] - 0s 2ms/step - loss: 817086080.0000 - mae: 27741.9727 - val_loss: 269062784.0000 - val_mae: 15221.7979\n",
      "Epoch 24/150\n",
      "125/125 [==============================] - 0s 2ms/step - loss: 809460544.0000 - mae: 27606.8926 - val_loss: 265130000.0000 - val_mae: 15115.0137\n",
      "Epoch 25/150\n",
      "125/125 [==============================] - 0s 2ms/step - loss: 801883712.0000 - mae: 27472.0078 - val_loss: 261243776.0000 - val_mae: 15009.4023\n",
      "Epoch 26/150\n",
      "125/125 [==============================] - 0s 2ms/step - loss: 794354688.0000 - mae: 27337.3008 - val_loss: 257395264.0000 - val_mae: 14902.8906\n",
      "Epoch 27/150\n",
      "125/125 [==============================] - 0s 2ms/step - loss: 786872000.0000 - mae: 27202.7461 - val_loss: 253587360.0000 - val_mae: 14796.3242\n",
      "Epoch 28/150\n",
      "125/125 [==============================] - 0s 2ms/step - loss: 779435584.0000 - mae: 27068.3301 - val_loss: 249829488.0000 - val_mae: 14690.9619\n",
      "Epoch 29/150\n",
      "125/125 [==============================] - 0s 2ms/step - loss: 772044480.0000 - mae: 26934.0625 - val_loss: 246108432.0000 - val_mae: 14584.9580\n",
      "Epoch 30/150\n",
      "125/125 [==============================] - 0s 2ms/step - loss: 764697792.0000 - mae: 26799.9258 - val_loss: 242421872.0000 - val_mae: 14478.4648\n",
      "Epoch 31/150\n",
      "125/125 [==============================] - 0s 2ms/step - loss: 757395200.0000 - mae: 26665.9043 - val_loss: 238771888.0000 - val_mae: 14372.3369\n",
      "Epoch 32/150\n",
      "125/125 [==============================] - 0s 2ms/step - loss: 750136576.0000 - mae: 26531.9883 - val_loss: 235153184.0000 - val_mae: 14266.2568\n",
      "Epoch 33/150\n",
      "125/125 [==============================] - 0s 2ms/step - loss: 742921536.0000 - mae: 26398.1855 - val_loss: 231549968.0000 - val_mae: 14159.7842\n",
      "Epoch 34/150\n",
      "125/125 [==============================] - 0s 2ms/step - loss: 735749248.0000 - mae: 26264.4902 - val_loss: 227847856.0000 - val_mae: 14050.1201\n",
      "Epoch 35/150\n",
      "125/125 [==============================] - 0s 2ms/step - loss: 728619840.0000 - mae: 26130.8984 - val_loss: 224260608.0000 - val_mae: 13942.2305\n",
      "Epoch 36/150\n",
      "125/125 [==============================] - 0s 2ms/step - loss: 721532736.0000 - mae: 25997.3926 - val_loss: 220762224.0000 - val_mae: 13835.8154\n",
      "Epoch 37/150\n",
      "125/125 [==============================] - 0s 2ms/step - loss: 714487232.0000 - mae: 25863.9883 - val_loss: 217304800.0000 - val_mae: 13729.6514\n",
      "Epoch 38/150\n",
      "125/125 [==============================] - 0s 2ms/step - loss: 707484160.0000 - mae: 25730.6641 - val_loss: 213893696.0000 - val_mae: 13624.0312\n",
      "Epoch 39/150\n",
      "125/125 [==============================] - 0s 2ms/step - loss: 700522496.0000 - mae: 25597.4297 - val_loss: 210521904.0000 - val_mae: 13519.4082\n",
      "Epoch 40/150\n",
      "125/125 [==============================] - 0s 2ms/step - loss: 693602944.0000 - mae: 25464.2773 - val_loss: 207191936.0000 - val_mae: 13415.1074\n",
      "Epoch 41/150\n",
      "125/125 [==============================] - 0s 2ms/step - loss: 686724480.0000 - mae: 25331.2148 - val_loss: 203893072.0000 - val_mae: 13310.7422\n",
      "Epoch 42/150\n",
      "125/125 [==============================] - 0s 2ms/step - loss: 679886848.0000 - mae: 25198.2285 - val_loss: 200628384.0000 - val_mae: 13206.3242\n",
      "Epoch 43/150\n",
      "125/125 [==============================] - 0s 2ms/step - loss: 673090560.0000 - mae: 25065.3379 - val_loss: 197396304.0000 - val_mae: 13101.8164\n",
      "Epoch 44/150\n",
      "125/125 [==============================] - 0s 2ms/step - loss: 666334912.0000 - mae: 24932.7129 - val_loss: 194182928.0000 - val_mae: 12996.6123\n",
      "Epoch 45/150\n",
      "125/125 [==============================] - 0s 2ms/step - loss: 659620288.0000 - mae: 24800.2363 - val_loss: 190832304.0000 - val_mae: 12885.5928\n",
      "Epoch 46/150\n",
      "125/125 [==============================] - 0s 2ms/step - loss: 652946112.0000 - mae: 24667.8223 - val_loss: 187535632.0000 - val_mae: 12776.1963\n",
      "Epoch 47/150\n",
      "125/125 [==============================] - 0s 2ms/step - loss: 646312896.0000 - mae: 24535.5059 - val_loss: 184386176.0000 - val_mae: 12670.7148\n",
      "Epoch 48/150\n",
      "125/125 [==============================] - 0s 2ms/step - loss: 639720064.0000 - mae: 24403.2422 - val_loss: 181141920.0000 - val_mae: 12562.2158\n",
      "Epoch 49/150\n",
      "125/125 [==============================] - 0s 2ms/step - loss: 633167360.0000 - mae: 24271.2109 - val_loss: 177808960.0000 - val_mae: 12454.0537\n",
      "Epoch 50/150\n",
      "125/125 [==============================] - 0s 2ms/step - loss: 626655040.0000 - mae: 24139.3730 - val_loss: 174749088.0000 - val_mae: 12354.7188\n",
      "Epoch 51/150\n",
      "125/125 [==============================] - 0s 2ms/step - loss: 620183424.0000 - mae: 24007.6230 - val_loss: 171661568.0000 - val_mae: 12247.5303\n",
      "Epoch 52/150\n",
      "125/125 [==============================] - 0s 2ms/step - loss: 613751744.0000 - mae: 23875.9375 - val_loss: 168647440.0000 - val_mae: 12140.5039\n"
     ]
    },
    {
     "name": "stdout",
     "output_type": "stream",
     "text": [
      "Epoch 53/150\n",
      "125/125 [==============================] - 0s 2ms/step - loss: 607360320.0000 - mae: 23744.3281 - val_loss: 165686256.0000 - val_mae: 12035.0293\n",
      "Epoch 54/150\n",
      "125/125 [==============================] - 0s 2ms/step - loss: 601008768.0000 - mae: 23612.7949 - val_loss: 162688048.0000 - val_mae: 11928.8428\n",
      "Epoch 55/150\n",
      "125/125 [==============================] - 0s 2ms/step - loss: 594697344.0000 - mae: 23481.3379 - val_loss: 159664448.0000 - val_mae: 11822.0234\n",
      "Epoch 56/150\n",
      "125/125 [==============================] - 0s 2ms/step - loss: 588425920.0000 - mae: 23349.9473 - val_loss: 156636800.0000 - val_mae: 11712.7012\n",
      "Epoch 57/150\n",
      "125/125 [==============================] - 0s 2ms/step - loss: 582194304.0000 - mae: 23218.6387 - val_loss: 153802176.0000 - val_mae: 11607.8545\n",
      "Epoch 58/150\n",
      "125/125 [==============================] - 0s 2ms/step - loss: 576002880.0000 - mae: 23087.4062 - val_loss: 151137520.0000 - val_mae: 11499.1240\n",
      "Epoch 59/150\n",
      "125/125 [==============================] - 0s 2ms/step - loss: 569851072.0000 - mae: 22956.2559 - val_loss: 148499200.0000 - val_mae: 11395.4980\n",
      "Epoch 60/150\n",
      "125/125 [==============================] - 0s 2ms/step - loss: 563739584.0000 - mae: 22825.1719 - val_loss: 145874720.0000 - val_mae: 11295.6221\n",
      "Epoch 61/150\n",
      "125/125 [==============================] - 0s 2ms/step - loss: 557667328.0000 - mae: 22694.1738 - val_loss: 143322496.0000 - val_mae: 11196.7334\n",
      "Epoch 62/150\n",
      "125/125 [==============================] - 0s 2ms/step - loss: 551634944.0000 - mae: 22563.2422 - val_loss: 140835856.0000 - val_mae: 11098.4883\n",
      "Epoch 63/150\n",
      "125/125 [==============================] - 0s 2ms/step - loss: 545642304.0000 - mae: 22432.4023 - val_loss: 138428096.0000 - val_mae: 11001.7314\n",
      "Epoch 64/150\n",
      "125/125 [==============================] - 0s 2ms/step - loss: 539689088.0000 - mae: 22301.6270 - val_loss: 136177488.0000 - val_mae: 10919.3486\n",
      "Epoch 65/150\n",
      "125/125 [==============================] - 0s 2ms/step - loss: 533775776.0000 - mae: 22170.9277 - val_loss: 133603184.0000 - val_mae: 10858.3652\n",
      "Epoch 66/150\n",
      "125/125 [==============================] - 0s 2ms/step - loss: 527902272.0000 - mae: 22040.3223 - val_loss: 131372104.0000 - val_mae: 10791.5293\n",
      "Epoch 67/150\n",
      "125/125 [==============================] - 0s 2ms/step - loss: 522068128.0000 - mae: 21909.8027 - val_loss: 129245064.0000 - val_mae: 10710.2725\n",
      "Epoch 68/150\n",
      "125/125 [==============================] - 0s 2ms/step - loss: 516273504.0000 - mae: 21779.3574 - val_loss: 127058312.0000 - val_mae: 10619.2764\n",
      "Epoch 69/150\n",
      "125/125 [==============================] - 0s 2ms/step - loss: 510518656.0000 - mae: 21648.9824 - val_loss: 124862504.0000 - val_mae: 10525.3525\n",
      "Epoch 70/150\n",
      "125/125 [==============================] - 0s 2ms/step - loss: 504803136.0000 - mae: 21518.7109 - val_loss: 122688584.0000 - val_mae: 10430.8457\n",
      "Epoch 71/150\n",
      "125/125 [==============================] - 0s 2ms/step - loss: 499127328.0000 - mae: 21388.5156 - val_loss: 120531224.0000 - val_mae: 10335.8877\n",
      "Epoch 72/150\n",
      "125/125 [==============================] - 0s 2ms/step - loss: 493490880.0000 - mae: 21258.4258 - val_loss: 118409712.0000 - val_mae: 10241.4932\n",
      "Epoch 73/150\n",
      "125/125 [==============================] - 0s 2ms/step - loss: 487893760.0000 - mae: 21128.4004 - val_loss: 116325232.0000 - val_mae: 10147.7051\n",
      "Epoch 74/150\n",
      "125/125 [==============================] - 0s 2ms/step - loss: 482335936.0000 - mae: 20998.4688 - val_loss: 114277712.0000 - val_mae: 10054.0547\n",
      "Epoch 75/150\n",
      "125/125 [==============================] - 0s 2ms/step - loss: 476817728.0000 - mae: 20868.6309 - val_loss: 112267184.0000 - val_mae: 9960.4756\n",
      "Epoch 76/150\n",
      "125/125 [==============================] - 0s 2ms/step - loss: 471338816.0000 - mae: 20738.8848 - val_loss: 110293512.0000 - val_mae: 9866.9619\n",
      "Epoch 77/150\n",
      "125/125 [==============================] - 0s 2ms/step - loss: 465899168.0000 - mae: 20609.2207 - val_loss: 108356728.0000 - val_mae: 9773.5127\n",
      "Epoch 78/150\n",
      "125/125 [==============================] - 0s 2ms/step - loss: 460498848.0000 - mae: 20479.6621 - val_loss: 106456680.0000 - val_mae: 9680.1357\n",
      "Epoch 79/150\n",
      "125/125 [==============================] - 0s 2ms/step - loss: 455137824.0000 - mae: 20350.1855 - val_loss: 104593376.0000 - val_mae: 9587.4434\n",
      "Epoch 80/150\n",
      "125/125 [==============================] - 0s 2ms/step - loss: 449816224.0000 - mae: 20220.8145 - val_loss: 102766688.0000 - val_mae: 9495.4258\n",
      "Epoch 81/150\n",
      "125/125 [==============================] - 0s 2ms/step - loss: 444533728.0000 - mae: 20091.5352 - val_loss: 100976600.0000 - val_mae: 9403.4863\n",
      "Epoch 82/150\n",
      "125/125 [==============================] - 0s 2ms/step - loss: 439290304.0000 - mae: 19962.3574 - val_loss: 99223056.0000 - val_mae: 9312.1992\n",
      "Epoch 83/150\n",
      "125/125 [==============================] - 0s 2ms/step - loss: 434086080.0000 - mae: 19833.2793 - val_loss: 97505968.0000 - val_mae: 9221.0234\n",
      "Epoch 84/150\n",
      "125/125 [==============================] - 0s 2ms/step - loss: 428921280.0000 - mae: 19704.3008 - val_loss: 95825320.0000 - val_mae: 9129.9160\n",
      "Epoch 85/150\n",
      "125/125 [==============================] - 0s 2ms/step - loss: 423795424.0000 - mae: 19575.4199 - val_loss: 94180944.0000 - val_mae: 9038.9717\n",
      "Epoch 86/150\n",
      "125/125 [==============================] - 0s 2ms/step - loss: 418708544.0000 - mae: 19446.6426 - val_loss: 92572832.0000 - val_mae: 8950.7188\n",
      "Epoch 87/150\n",
      "125/125 [==============================] - 0s 2ms/step - loss: 413660640.0000 - mae: 19317.9844 - val_loss: 91000936.0000 - val_mae: 8864.8330\n",
      "Epoch 88/150\n",
      "125/125 [==============================] - 0s 2ms/step - loss: 408652096.0000 - mae: 19189.4121 - val_loss: 89465224.0000 - val_mae: 8780.4004\n",
      "Epoch 89/150\n",
      "125/125 [==============================] - 0s 2ms/step - loss: 403682400.0000 - mae: 19060.9648 - val_loss: 87965560.0000 - val_mae: 8696.4131\n",
      "Epoch 90/150\n",
      "125/125 [==============================] - 0s 2ms/step - loss: 398751776.0000 - mae: 18932.6172 - val_loss: 86501960.0000 - val_mae: 8613.1572\n",
      "Epoch 91/150\n",
      "125/125 [==============================] - 0s 2ms/step - loss: 393860448.0000 - mae: 18804.3984 - val_loss: 85074136.0000 - val_mae: 8530.5342\n",
      "Epoch 92/150\n",
      "125/125 [==============================] - 0s 2ms/step - loss: 389007456.0000 - mae: 18676.2715 - val_loss: 83682280.0000 - val_mae: 8447.9902\n",
      "Epoch 93/150\n",
      "125/125 [==============================] - 0s 2ms/step - loss: 384193632.0000 - mae: 18548.2637 - val_loss: 82326160.0000 - val_mae: 8365.8037\n",
      "Epoch 94/150\n",
      "125/125 [==============================] - 0s 2ms/step - loss: 379418720.0000 - mae: 18420.3848 - val_loss: 81005736.0000 - val_mae: 8284.3633\n",
      "Epoch 95/150\n",
      "125/125 [==============================] - 0s 2ms/step - loss: 374682464.0000 - mae: 18292.6094 - val_loss: 79720904.0000 - val_mae: 8203.3193\n",
      "Epoch 96/150\n",
      "125/125 [==============================] - 0s 2ms/step - loss: 369985056.0000 - mae: 18165.3477 - val_loss: 78471640.0000 - val_mae: 8122.9058\n",
      "Epoch 97/150\n",
      "125/125 [==============================] - 0s 2ms/step - loss: 365326400.0000 - mae: 18038.3457 - val_loss: 77257816.0000 - val_mae: 8042.6519\n",
      "Epoch 98/150\n",
      "125/125 [==============================] - 0s 2ms/step - loss: 360706464.0000 - mae: 17911.4648 - val_loss: 76079416.0000 - val_mae: 7963.0049\n",
      "Epoch 99/150\n",
      "125/125 [==============================] - 0s 2ms/step - loss: 356125664.0000 - mae: 17784.7051 - val_loss: 74936280.0000 - val_mae: 7883.4326\n",
      "Epoch 100/150\n",
      "125/125 [==============================] - 0s 2ms/step - loss: 351583040.0000 - mae: 17658.0742 - val_loss: 73828336.0000 - val_mae: 7804.3442\n",
      "Epoch 101/150\n",
      "125/125 [==============================] - 0s 2ms/step - loss: 347079264.0000 - mae: 17531.5625 - val_loss: 72755576.0000 - val_mae: 7726.1504\n",
      "Epoch 102/150\n",
      "125/125 [==============================] - 0s 2ms/step - loss: 342614048.0000 - mae: 17405.1992 - val_loss: 71717840.0000 - val_mae: 7648.0376\n",
      "Epoch 103/150\n",
      "125/125 [==============================] - 0s 2ms/step - loss: 338187712.0000 - mae: 17279.1934 - val_loss: 70715072.0000 - val_mae: 7570.2930\n",
      "Epoch 104/150\n",
      "125/125 [==============================] - 0s 2ms/step - loss: 333799584.0000 - mae: 17153.3535 - val_loss: 69747112.0000 - val_mae: 7492.9517\n",
      "Epoch 105/150\n"
     ]
    },
    {
     "name": "stdout",
     "output_type": "stream",
     "text": [
      "125/125 [==============================] - 0s 2ms/step - loss: 329450304.0000 - mae: 17029.5977 - val_loss: 68813976.0000 - val_mae: 7420.4722\n",
      "Epoch 106/150\n",
      "125/125 [==============================] - 0s 2ms/step - loss: 325139520.0000 - mae: 16909.9766 - val_loss: 67915448.0000 - val_mae: 7348.2017\n",
      "Epoch 107/150\n",
      "125/125 [==============================] - 0s 2ms/step - loss: 320866880.0000 - mae: 16790.5098 - val_loss: 67051500.0000 - val_mae: 7277.0879\n",
      "Epoch 108/150\n",
      "125/125 [==============================] - 0s 2ms/step - loss: 316632608.0000 - mae: 16671.3926 - val_loss: 66221964.0000 - val_mae: 7206.1543\n",
      "Epoch 109/150\n",
      "125/125 [==============================] - 0s 2ms/step - loss: 312436544.0000 - mae: 16552.4648 - val_loss: 65426848.0000 - val_mae: 7135.8579\n",
      "Epoch 110/150\n",
      "125/125 [==============================] - 0s 2ms/step - loss: 308279104.0000 - mae: 16433.6758 - val_loss: 64665976.0000 - val_mae: 7066.0298\n",
      "Epoch 111/150\n",
      "125/125 [==============================] - 0s 2ms/step - loss: 304159808.0000 - mae: 16315.1270 - val_loss: 63939264.0000 - val_mae: 6996.8457\n",
      "Epoch 112/150\n",
      "125/125 [==============================] - 0s 2ms/step - loss: 300078784.0000 - mae: 16196.8779 - val_loss: 63246616.0000 - val_mae: 6928.4487\n",
      "Epoch 113/150\n",
      "125/125 [==============================] - 0s 2ms/step - loss: 296036032.0000 - mae: 16078.7822 - val_loss: 62587912.0000 - val_mae: 6860.5557\n",
      "Epoch 114/150\n",
      "125/125 [==============================] - 0s 2ms/step - loss: 292031520.0000 - mae: 15960.8428 - val_loss: 61963012.0000 - val_mae: 6793.1465\n",
      "Epoch 115/150\n",
      "125/125 [==============================] - 0s 2ms/step - loss: 288064864.0000 - mae: 15843.0449 - val_loss: 61371840.0000 - val_mae: 6726.6812\n",
      "Epoch 116/150\n",
      "125/125 [==============================] - 0s 2ms/step - loss: 284136576.0000 - mae: 15725.4033 - val_loss: 60814264.0000 - val_mae: 6660.5820\n",
      "Epoch 117/150\n",
      "125/125 [==============================] - 0s 2ms/step - loss: 280246144.0000 - mae: 15607.9297 - val_loss: 60290144.0000 - val_mae: 6594.5874\n",
      "Epoch 118/150\n",
      "125/125 [==============================] - 0s 2ms/step - loss: 276393376.0000 - mae: 15490.5938 - val_loss: 59799356.0000 - val_mae: 6529.2959\n",
      "Epoch 119/150\n",
      "125/125 [==============================] - 0s 2ms/step - loss: 272578944.0000 - mae: 15373.4346 - val_loss: 59341840.0000 - val_mae: 6464.6475\n",
      "Epoch 120/150\n",
      "125/125 [==============================] - 0s 2ms/step - loss: 268802272.0000 - mae: 15256.4385 - val_loss: 58917416.0000 - val_mae: 6400.0977\n",
      "Epoch 121/150\n",
      "125/125 [==============================] - 0s 2ms/step - loss: 265063696.0000 - mae: 15139.6162 - val_loss: 58526012.0000 - val_mae: 6335.6440\n",
      "Epoch 122/150\n",
      "125/125 [==============================] - 0s 2ms/step - loss: 261362880.0000 - mae: 15022.9648 - val_loss: 58167352.0000 - val_mae: 6271.2754\n",
      "Epoch 123/150\n",
      "125/125 [==============================] - 0s 2ms/step - loss: 257699552.0000 - mae: 14906.4756 - val_loss: 57841460.0000 - val_mae: 6207.0088\n",
      "Epoch 124/150\n",
      "125/125 [==============================] - 0s 2ms/step - loss: 254074048.0000 - mae: 14790.1748 - val_loss: 57548124.0000 - val_mae: 6142.8442\n",
      "Epoch 125/150\n",
      "125/125 [==============================] - 0s 2ms/step - loss: 250486192.0000 - mae: 14674.0557 - val_loss: 57287204.0000 - val_mae: 6079.3335\n",
      "Epoch 126/150\n",
      "125/125 [==============================] - 0s 2ms/step - loss: 246935936.0000 - mae: 14558.3018 - val_loss: 57058556.0000 - val_mae: 6016.1553\n",
      "Epoch 127/150\n",
      "125/125 [==============================] - 0s 2ms/step - loss: 243423008.0000 - mae: 14442.7939 - val_loss: 56862048.0000 - val_mae: 5954.0552\n",
      "Epoch 128/150\n",
      "125/125 [==============================] - 0s 2ms/step - loss: 239947424.0000 - mae: 14327.6953 - val_loss: 56697508.0000 - val_mae: 5893.8062\n",
      "Epoch 129/150\n",
      "125/125 [==============================] - 0s 2ms/step - loss: 236509440.0000 - mae: 14212.8301 - val_loss: 56564808.0000 - val_mae: 5834.3516\n",
      "Epoch 130/150\n",
      "125/125 [==============================] - 0s 2ms/step - loss: 233108592.0000 - mae: 14098.1406 - val_loss: 56463776.0000 - val_mae: 5777.0635\n",
      "Epoch 131/150\n",
      "125/125 [==============================] - 0s 2ms/step - loss: 229745456.0000 - mae: 13983.6709 - val_loss: 56394252.0000 - val_mae: 5720.8022\n",
      "Epoch 132/150\n",
      "125/125 [==============================] - 0s 2ms/step - loss: 226419488.0000 - mae: 13869.3936 - val_loss: 56356084.0000 - val_mae: 5666.0938\n",
      "Epoch 133/150\n",
      "125/125 [==============================] - 0s 2ms/step - loss: 223130704.0000 - mae: 13755.3340 - val_loss: 56349080.0000 - val_mae: 5613.5049\n",
      "Epoch 134/150\n",
      "125/125 [==============================] - 0s 2ms/step - loss: 219878960.0000 - mae: 13641.4805 - val_loss: 56373092.0000 - val_mae: 5563.7104\n",
      "Epoch 135/150\n",
      "125/125 [==============================] - 0s 2ms/step - loss: 216664480.0000 - mae: 13527.8398 - val_loss: 56427928.0000 - val_mae: 5515.7217\n",
      "Epoch 136/150\n",
      "125/125 [==============================] - 0s 2ms/step - loss: 213486752.0000 - mae: 13414.4170 - val_loss: 56513420.0000 - val_mae: 5470.8755\n",
      "Epoch 137/150\n",
      "125/125 [==============================] - 0s 2ms/step - loss: 210346000.0000 - mae: 13301.2158 - val_loss: 56629364.0000 - val_mae: 5429.6650\n",
      "Epoch 138/150\n",
      "125/125 [==============================] - 0s 2ms/step - loss: 207241952.0000 - mae: 13188.2383 - val_loss: 56775608.0000 - val_mae: 5389.8374\n"
     ]
    }
   ],
   "source": [
    "model_init, history_init = fit_model(model_init)"
   ]
  },
  {
   "cell_type": "code",
   "execution_count": 538,
   "id": "8f8792e4",
   "metadata": {},
   "outputs": [
    {
     "data": {
      "text/plain": [
       "array([<Axes: title={'center': 'MSE'}, xlabel='Epoch', ylabel='Loss'>,\n",
       "       <Axes: title={'center': 'MAE'}, xlabel='Epoch', ylabel='MAE'>],\n",
       "      dtype=object)"
      ]
     },
     "execution_count": 538,
     "metadata": {},
     "output_type": "execute_result"
    },
    {
     "data": {
      "image/png": "[encoded data removed]",
      "text/plain": [
       "<Figure size 2000x700 with 2 Axes>"
      ]
     },
     "metadata": {},
     "output_type": "display_data"
    }
   ],
   "source": [
    "plot_history(history_init)"
   ]
  },
  {
   "cell_type": "code",
   "execution_count": 539,
   "id": "45b7fe3d",
   "metadata": {},
   "outputs": [
    {
     "data": {
      "text/plain": [
       "[24062346.0, 2532.1044921875]"
      ]
     },
     "execution_count": 539,
     "metadata": {},
     "output_type": "execute_result"
    }
   ],
   "source": [
    "res = model_init.evaluate(X_test, y_test, verbose=0)\n",
    "res"
   ]
  },
  {
   "cell_type": "code",
   "execution_count": 540,
   "id": "904b5d42",
   "metadata": {},
   "outputs": [],
   "source": [
    "mae_results = {}"
   ]
  },
  {
   "cell_type": "code",
   "execution_count": 541,
   "id": "2761d5a2",
   "metadata": {},
   "outputs": [],
   "source": [
    "mae_results['res'] = res[1]"
   ]
  },
  {
   "cell_type": "markdown",
   "id": "380c908c",
   "metadata": {},
   "source": [
    "#### Initial model with LSTM 128 neurons"
   ]
  },
  {
   "cell_type": "code",
   "execution_count": 597,
   "id": "4a536a31",
   "metadata": {},
   "outputs": [],
   "source": [
    "def init_model_2(X_train, y_train):\n",
    "    \n",
    "    #normalization\n",
    "    normalizer = Normalization()\n",
    "    normalizer.adapt(X_train)\n",
    "    \n",
    "    #arquitecture\n",
    "    model = models.Sequential()\n",
    "    model.add(normalizer)\n",
    "    model.add(layers.LSTM(128, activation='tanh', kernel_regularizer=L1L2(l1=0.05, l2=0.05)))\n",
    "    #model.add(layers.Dropout(rate=0.1))\n",
    "    output_len = y_train.shape[1]\n",
    "    model.add(layers.Dense(output_len, activation='linear'))\n",
    "    \n",
    "    #compile\n",
    "    adam = optimizers.Adam(learning_rate=0.02)\n",
    "    \n",
    "    model.compile(loss='mse',\n",
    "                 optimizer=adam,\n",
    "                 metrics=['mae'])\n",
    "    \n",
    "    return model"
   ]
  },
  {
   "cell_type": "code",
   "execution_count": 592,
   "id": "43b2d2b0",
   "metadata": {},
   "outputs": [
    {
     "name": "stdout",
     "output_type": "stream",
     "text": [
      "Model: \"sequential_95\"\n",
      "_________________________________________________________________\n",
      " Layer (type)                Output Shape              Param #   \n",
      "=================================================================\n",
      " normalization_94 (Normaliza  (None, None, 3)          7         \n",
      " tion)                                                           \n",
      "                                                                 \n",
      " lstm_105 (LSTM)             (None, 128)               67584     \n",
      "                                                                 \n",
      " dense_89 (Dense)            (None, 1)                 129       \n",
      "                                                                 \n",
      "=================================================================\n",
      "Total params: 67,720\n",
      "Trainable params: 67,713\n",
      "Non-trainable params: 7\n",
      "_________________________________________________________________\n"
     ]
    }
   ],
   "source": [
    "model_2 = init_model_2(X_train, y_train)\n",
    "model_2.summary()"
   ]
  },
  {
   "cell_type": "code",
   "execution_count": 593,
   "id": "6748cf48",
   "metadata": {},
   "outputs": [],
   "source": [
    "es = EarlyStopping(patience=5, restore_best_weights=True)\n",
    "\n",
    "def fit_model(model):\n",
    "    \n",
    "    history = model.fit(X_train, y_train,\n",
    "                        validation_split=0.3,\n",
    "                        shuffle = False,\n",
    "                        batch_size=8,\n",
    "                        epochs=150,\n",
    "                        verbose=1,\n",
    "                        callbacks=[es]\n",
    "                       )\n",
    "    \n",
    "    return (model, history)"
   ]
  },
  {
   "cell_type": "code",
   "execution_count": 594,
   "id": "cac5c96a",
   "metadata": {},
   "outputs": [
    {
     "name": "stdout",
     "output_type": "stream",
     "text": [
      "Epoch 1/150\n",
      "125/125 [==============================] - 1s 5ms/step - loss: 995353856.0000 - mae: 30729.4766 - val_loss: 368034720.0000 - val_mae: 17672.6641\n",
      "Epoch 2/150\n",
      "125/125 [==============================] - 0s 3ms/step - loss: 982485184.0000 - mae: 30521.9883 - val_loss: 355892576.0000 - val_mae: 17384.7188\n",
      "Epoch 3/150\n",
      "125/125 [==============================] - 0s 3ms/step - loss: 967710720.0000 - mae: 30283.9785 - val_loss: 347624704.0000 - val_mae: 17188.2754\n",
      "Epoch 4/150\n",
      "125/125 [==============================] - 0s 3ms/step - loss: 953146240.0000 - mae: 30047.2422 - val_loss: 339392416.0000 - val_mae: 16990.8008\n",
      "Epoch 5/150\n",
      "125/125 [==============================] - 0s 3ms/step - loss: 938537920.0000 - mae: 29807.8926 - val_loss: 331331904.0000 - val_mae: 16794.2852\n",
      "Epoch 6/150\n",
      "125/125 [==============================] - 0s 3ms/step - loss: 924257216.0000 - mae: 29572.0371 - val_loss: 323479520.0000 - val_mae: 16602.0625\n",
      "Epoch 7/150\n",
      "125/125 [==============================] - 0s 3ms/step - loss: 910333184.0000 - mae: 29340.5117 - val_loss: 315906240.0000 - val_mae: 16414.5586\n",
      "Epoch 8/150\n",
      "125/125 [==============================] - 0s 3ms/step - loss: 896725568.0000 - mae: 29112.6133 - val_loss: 308417952.0000 - val_mae: 16224.9805\n",
      "Epoch 9/150\n",
      "125/125 [==============================] - 0s 3ms/step - loss: 883011904.0000 - mae: 28880.9219 - val_loss: 300868064.0000 - val_mae: 16034.3896\n",
      "Epoch 10/150\n",
      "125/125 [==============================] - 0s 3ms/step - loss: 869265344.0000 - mae: 28646.8906 - val_loss: 293550336.0000 - val_mae: 15847.7979\n",
      "Epoch 11/150\n",
      "125/125 [==============================] - 0s 3ms/step - loss: 855894464.0000 - mae: 28417.4004 - val_loss: 286422592.0000 - val_mae: 15663.7373\n",
      "Epoch 12/150\n",
      "125/125 [==============================] - 0s 3ms/step - loss: 842720000.0000 - mae: 28189.3008 - val_loss: 279224448.0000 - val_mae: 15477.9443\n",
      "Epoch 13/150\n",
      "125/125 [==============================] - 0s 4ms/step - loss: 829406272.0000 - mae: 27956.9785 - val_loss: 272366272.0000 - val_mae: 15297.4131\n",
      "Epoch 14/150\n",
      "125/125 [==============================] - 0s 3ms/step - loss: 816601536.0000 - mae: 27731.5957 - val_loss: 265659376.0000 - val_mae: 15119.7354\n",
      "Epoch 15/150\n",
      "125/125 [==============================] - 0s 3ms/step - loss: 803968832.0000 - mae: 27507.3848 - val_loss: 259094464.0000 - val_mae: 14943.1084\n",
      "Epoch 16/150\n",
      "125/125 [==============================] - 0s 3ms/step - loss: 791496768.0000 - mae: 27284.1738 - val_loss: 252659472.0000 - val_mae: 14766.5547\n",
      "Epoch 17/150\n",
      "125/125 [==============================] - 0s 3ms/step - loss: 779178048.0000 - mae: 27061.8477 - val_loss: 246349536.0000 - val_mae: 14591.3184\n",
      "Epoch 18/150\n",
      "125/125 [==============================] - 0s 3ms/step - loss: 767005696.0000 - mae: 26840.3125 - val_loss: 240158944.0000 - val_mae: 14415.9961\n",
      "Epoch 19/150\n",
      "125/125 [==============================] - 0s 3ms/step - loss: 754975104.0000 - mae: 26619.4785 - val_loss: 234089184.0000 - val_mae: 14241.0723\n",
      "Epoch 20/150\n",
      "125/125 [==============================] - 0s 3ms/step - loss: 742978304.0000 - mae: 26397.3223 - val_loss: 227916688.0000 - val_mae: 14044.7119\n",
      "Epoch 21/150\n",
      "125/125 [==============================] - 0s 3ms/step - loss: 730864256.0000 - mae: 26171.0586 - val_loss: 221765696.0000 - val_mae: 13863.8926\n",
      "Epoch 22/150\n",
      "125/125 [==============================] - 0s 3ms/step - loss: 718536576.0000 - mae: 25938.0918 - val_loss: 215613360.0000 - val_mae: 13686.2441\n",
      "Epoch 23/150\n",
      "125/125 [==============================] - 0s 3ms/step - loss: 706197248.0000 - mae: 25703.7207 - val_loss: 209510208.0000 - val_mae: 13496.0508\n",
      "Epoch 24/150\n",
      "125/125 [==============================] - 0s 3ms/step - loss: 694360064.0000 - mae: 25476.8711 - val_loss: 203918784.0000 - val_mae: 13325.2090\n",
      "Epoch 25/150\n",
      "125/125 [==============================] - 0s 3ms/step - loss: 682812544.0000 - mae: 25253.1426 - val_loss: 198186864.0000 - val_mae: 13139.1816\n",
      "Epoch 26/150\n",
      "125/125 [==============================] - 0s 3ms/step - loss: 670815616.0000 - mae: 25018.4297 - val_loss: 192284832.0000 - val_mae: 12927.4082\n",
      "Epoch 27/150\n",
      "125/125 [==============================] - 0s 3ms/step - loss: 658989824.0000 - mae: 24785.5566 - val_loss: 186981808.0000 - val_mae: 12759.4502\n",
      "Epoch 28/150\n",
      "125/125 [==============================] - 0s 3ms/step - loss: 647746944.0000 - mae: 24561.9746 - val_loss: 181836608.0000 - val_mae: 12554.9072\n",
      "Epoch 29/150\n",
      "125/125 [==============================] - 0s 3ms/step - loss: 636663872.0000 - mae: 24339.5078 - val_loss: 176619040.0000 - val_mae: 12365.6885\n",
      "Epoch 30/150\n",
      "125/125 [==============================] - 0s 3ms/step - loss: 625727936.0000 - mae: 24118.3320 - val_loss: 171543504.0000 - val_mae: 12189.6816\n",
      "Epoch 31/150\n",
      "125/125 [==============================] - 0s 3ms/step - loss: 614930944.0000 - mae: 23897.9102 - val_loss: 166729344.0000 - val_mae: 12023.0068\n",
      "Epoch 32/150\n",
      "125/125 [==============================] - 0s 3ms/step - loss: 604267584.0000 - mae: 23678.1543 - val_loss: 161982112.0000 - val_mae: 11851.9551\n",
      "Epoch 33/150\n",
      "125/125 [==============================] - 0s 3ms/step - loss: 593734080.0000 - mae: 23458.9492 - val_loss: 157354848.0000 - val_mae: 11681.1328\n",
      "Epoch 34/150\n",
      "125/125 [==============================] - 0s 3ms/step - loss: 583326976.0000 - mae: 23240.3008 - val_loss: 152817584.0000 - val_mae: 11504.7764\n",
      "Epoch 35/150\n",
      "125/125 [==============================] - 0s 3ms/step - loss: 572383104.0000 - mae: 23007.0645 - val_loss: 147654000.0000 - val_mae: 11304.1270\n",
      "Epoch 36/150\n",
      "125/125 [==============================] - 0s 3ms/step - loss: 561050048.0000 - mae: 22764.8906 - val_loss: 143675776.0000 - val_mae: 11146.2275\n",
      "Epoch 37/150\n",
      "125/125 [==============================] - 0s 4ms/step - loss: 550944192.0000 - mae: 22545.8223 - val_loss: 139519472.0000 - val_mae: 10983.0615\n",
      "Epoch 38/150\n",
      "125/125 [==============================] - 0s 3ms/step - loss: 540965312.0000 - mae: 22327.3281 - val_loss: 135330528.0000 - val_mae: 10817.4814\n",
      "Epoch 39/150\n",
      "125/125 [==============================] - 0s 3ms/step - loss: 531110912.0000 - mae: 22109.3574 - val_loss: 131260328.0000 - val_mae: 10652.7061\n",
      "Epoch 40/150\n",
      "125/125 [==============================] - 0s 3ms/step - loss: 521378688.0000 - mae: 21891.8965 - val_loss: 127289280.0000 - val_mae: 10487.1426\n",
      "Epoch 41/150\n",
      "125/125 [==============================] - 0s 3ms/step - loss: 511406240.0000 - mae: 21666.4688 - val_loss: 123107464.0000 - val_mae: 10311.1582\n",
      "Epoch 42/150\n",
      "125/125 [==============================] - 0s 3ms/step - loss: 501223488.0000 - mae: 21433.9902 - val_loss: 119471840.0000 - val_mae: 10141.2451\n",
      "Epoch 43/150\n",
      "125/125 [==============================] - 0s 3ms/step - loss: 490853216.0000 - mae: 21194.7012 - val_loss: 115924904.0000 - val_mae: 9983.2373\n",
      "Epoch 44/150\n",
      "125/125 [==============================] - 0s 3ms/step - loss: 481545632.0000 - mae: 20977.3496 - val_loss: 112514752.0000 - val_mae: 9826.2861\n",
      "Epoch 45/150\n",
      "125/125 [==============================] - 0s 3ms/step - loss: 472359616.0000 - mae: 20760.5312 - val_loss: 109280960.0000 - val_mae: 9669.8516\n",
      "Epoch 46/150\n",
      "125/125 [==============================] - 0s 3ms/step - loss: 463294176.0000 - mae: 20544.2188 - val_loss: 106517160.0000 - val_mae: 9527.9756\n",
      "Epoch 47/150\n",
      "125/125 [==============================] - 0s 3ms/step - loss: 454347072.0000 - mae: 20328.3770 - val_loss: 103829816.0000 - val_mae: 9394.9150\n",
      "Epoch 48/150\n",
      "125/125 [==============================] - 0s 3ms/step - loss: 445390592.0000 - mae: 20109.6797 - val_loss: 102077808.0000 - val_mae: 9290.0068\n",
      "Epoch 49/150\n",
      "125/125 [==============================] - 0s 4ms/step - loss: 436397248.0000 - mae: 19887.8164 - val_loss: 98901272.0000 - val_mae: 9119.7822\n",
      "Epoch 50/150\n",
      "125/125 [==============================] - 0s 3ms/step - loss: 426504480.0000 - mae: 19639.1504 - val_loss: 95742696.0000 - val_mae: 8942.9346\n",
      "Epoch 51/150\n",
      "125/125 [==============================] - 0s 4ms/step - loss: 417524256.0000 - mae: 19413.5391 - val_loss: 92904904.0000 - val_mae: 8779.5723\n",
      "Epoch 52/150\n",
      "125/125 [==============================] - 0s 3ms/step - loss: 408907424.0000 - mae: 19192.9902 - val_loss: 90175576.0000 - val_mae: 8630.3799\n"
     ]
    },
    {
     "name": "stdout",
     "output_type": "stream",
     "text": [
      "Epoch 53/150\n",
      "125/125 [==============================] - 0s 3ms/step - loss: 400445312.0000 - mae: 18973.7871 - val_loss: 87493800.0000 - val_mae: 8482.4883\n",
      "Epoch 54/150\n",
      "125/125 [==============================] - 0s 3ms/step - loss: 392122816.0000 - mae: 18755.5996 - val_loss: 84850048.0000 - val_mae: 8334.4170\n",
      "Epoch 55/150\n",
      "125/125 [==============================] - 0s 3ms/step - loss: 383932672.0000 - mae: 18538.2578 - val_loss: 82276488.0000 - val_mae: 8187.4390\n",
      "Epoch 56/150\n",
      "125/125 [==============================] - 0s 3ms/step - loss: 375869792.0000 - mae: 18321.6582 - val_loss: 79708168.0000 - val_mae: 8037.7236\n",
      "Epoch 57/150\n",
      "125/125 [==============================] - 0s 3ms/step - loss: 367930400.0000 - mae: 18106.3457 - val_loss: 77153392.0000 - val_mae: 7879.3237\n",
      "Epoch 58/150\n",
      "125/125 [==============================] - 0s 3ms/step - loss: 360112384.0000 - mae: 17891.9316 - val_loss: 74686856.0000 - val_mae: 7726.5518\n",
      "Epoch 59/150\n",
      "125/125 [==============================] - 0s 3ms/step - loss: 352413536.0000 - mae: 17678.1289 - val_loss: 72234320.0000 - val_mae: 7571.2310\n",
      "Epoch 60/150\n",
      "125/125 [==============================] - 0s 3ms/step - loss: 344209344.0000 - mae: 17445.7578 - val_loss: 69482560.0000 - val_mae: 7383.0942\n",
      "Epoch 61/150\n",
      "125/125 [==============================] - 0s 3ms/step - loss: 336231456.0000 - mae: 17219.8535 - val_loss: 67118648.0000 - val_mae: 7230.3320\n",
      "Epoch 62/150\n",
      "125/125 [==============================] - 0s 3ms/step - loss: 328874656.0000 - mae: 17010.0820 - val_loss: 64932560.0000 - val_mae: 7087.6460\n",
      "Epoch 63/150\n",
      "125/125 [==============================] - 0s 3ms/step - loss: 321572096.0000 - mae: 16806.1875 - val_loss: 63950656.0000 - val_mae: 6984.5762\n",
      "Epoch 64/150\n",
      "125/125 [==============================] - 0s 3ms/step - loss: 314223456.0000 - mae: 16599.0332 - val_loss: 61764252.0000 - val_mae: 6840.9517\n",
      "Epoch 65/150\n",
      "125/125 [==============================] - 0s 3ms/step - loss: 307080640.0000 - mae: 16395.0879 - val_loss: 59866444.0000 - val_mae: 6700.6401\n",
      "Epoch 66/150\n",
      "125/125 [==============================] - 0s 3ms/step - loss: 298971616.0000 - mae: 16160.0371 - val_loss: 57957416.0000 - val_mae: 6551.1162\n",
      "Epoch 67/150\n",
      "125/125 [==============================] - 0s 3ms/step - loss: 292085472.0000 - mae: 15958.2461 - val_loss: 56520912.0000 - val_mae: 6424.5439\n",
      "Epoch 68/150\n",
      "125/125 [==============================] - 0s 3ms/step - loss: 285346016.0000 - mae: 15757.5068 - val_loss: 55195044.0000 - val_mae: 6300.3716\n",
      "Epoch 69/150\n",
      "125/125 [==============================] - 0s 3ms/step - loss: 278728192.0000 - mae: 15557.5605 - val_loss: 53986456.0000 - val_mae: 6177.2451\n",
      "Epoch 70/150\n",
      "125/125 [==============================] - 0s 3ms/step - loss: 272229440.0000 - mae: 15358.3525 - val_loss: 52962904.0000 - val_mae: 6063.2935\n",
      "Epoch 71/150\n",
      "125/125 [==============================] - 0s 3ms/step - loss: 265847424.0000 - mae: 15159.8662 - val_loss: 52483704.0000 - val_mae: 5968.8164\n",
      "Epoch 72/150\n",
      "125/125 [==============================] - 0s 3ms/step - loss: 259580976.0000 - mae: 14962.0684 - val_loss: 52203072.0000 - val_mae: 5883.7222\n",
      "Epoch 73/150\n",
      "125/125 [==============================] - 0s 3ms/step - loss: 253428368.0000 - mae: 14764.9473 - val_loss: 52052660.0000 - val_mae: 5800.0132\n",
      "Epoch 74/150\n",
      "125/125 [==============================] - 0s 3ms/step - loss: 247388848.0000 - mae: 14568.6221 - val_loss: 52017596.0000 - val_mae: 5713.6499\n",
      "Epoch 75/150\n",
      "125/125 [==============================] - 1s 4ms/step - loss: 241461392.0000 - mae: 14373.3584 - val_loss: 51469368.0000 - val_mae: 5600.6978\n",
      "Epoch 76/150\n",
      "125/125 [==============================] - 0s 4ms/step - loss: 235645120.0000 - mae: 14179.1416 - val_loss: 51018012.0000 - val_mae: 5492.2417\n",
      "Epoch 77/150\n",
      "125/125 [==============================] - 0s 3ms/step - loss: 229128224.0000 - mae: 13953.6055 - val_loss: 50618196.0000 - val_mae: 5370.1240\n",
      "Epoch 78/150\n",
      "125/125 [==============================] - 0s 3ms/step - loss: 223246384.0000 - mae: 13754.5928 - val_loss: 50384476.0000 - val_mae: 5274.0796\n",
      "Epoch 79/150\n",
      "125/125 [==============================] - 0s 3ms/step - loss: 217766560.0000 - mae: 13562.1006 - val_loss: 50247548.0000 - val_mae: 5185.6377\n",
      "Epoch 80/150\n",
      "125/125 [==============================] - 0s 3ms/step - loss: 212396288.0000 - mae: 13370.3613 - val_loss: 50198172.0000 - val_mae: 5105.2710\n",
      "Epoch 81/150\n",
      "125/125 [==============================] - 0s 3ms/step - loss: 206452080.0000 - mae: 13150.5020 - val_loss: 50241132.0000 - val_mae: 5016.2173\n",
      "Epoch 82/150\n",
      "125/125 [==============================] - 0s 3ms/step - loss: 200911968.0000 - mae: 12949.2754 - val_loss: 50231452.0000 - val_mae: 4938.5586\n",
      "Epoch 83/150\n",
      "125/125 [==============================] - 0s 3ms/step - loss: 195876112.0000 - mae: 12759.6123 - val_loss: 50597196.0000 - val_mae: 4888.7925\n",
      "Epoch 84/150\n",
      "125/125 [==============================] - 0s 3ms/step - loss: 190268304.0000 - mae: 12540.0557 - val_loss: 51289608.0000 - val_mae: 4840.7695\n",
      "Epoch 85/150\n",
      "125/125 [==============================] - 0s 3ms/step - loss: 185077088.0000 - mae: 12342.4492 - val_loss: 51989112.0000 - val_mae: 4804.4443\n"
     ]
    }
   ],
   "source": [
    "model_2, history_2 = fit_model(model_2)"
   ]
  },
  {
   "cell_type": "code",
   "execution_count": 595,
   "id": "d83037c1",
   "metadata": {},
   "outputs": [
    {
     "data": {
      "text/plain": [
       "array([<Axes: title={'center': 'MSE'}, xlabel='Epoch', ylabel='Loss'>,\n",
       "       <Axes: title={'center': 'MAE'}, xlabel='Epoch', ylabel='MAE'>],\n",
       "      dtype=object)"
      ]
     },
     "execution_count": 595,
     "metadata": {},
     "output_type": "execute_result"
    },
    {
     "data": {
      "image/png": "[encoded data removed]",
      "text/plain": [
       "<Figure size 2000x700 with 2 Axes>"
      ]
     },
     "metadata": {},
     "output_type": "display_data"
    }
   ],
   "source": [
    "plot_history(history_2)"
   ]
  },
  {
   "cell_type": "code",
   "execution_count": 598,
   "id": "d29c478e",
   "metadata": {},
   "outputs": [
    {
     "data": {
      "text/plain": [
       "[22585690.0, 2471.99267578125]"
      ]
     },
     "execution_count": 598,
     "metadata": {},
     "output_type": "execute_result"
    }
   ],
   "source": [
    "res2 = model_2.evaluate(X_test, y_test, verbose=0)\n",
    "res2"
   ]
  },
  {
   "cell_type": "code",
   "execution_count": 599,
   "id": "422ab0c6",
   "metadata": {},
   "outputs": [],
   "source": [
    "mae_results['res2'] = res2[1]"
   ]
  },
  {
   "cell_type": "markdown",
   "id": "5a616504",
   "metadata": {},
   "source": [
    "#### Initial model but with one more LSTM layer"
   ]
  },
  {
   "cell_type": "code",
   "execution_count": 637,
   "id": "ffbf79b7",
   "metadata": {},
   "outputs": [],
   "source": [
    "def init_model_3(X_train, y_train):\n",
    "    \n",
    "    #normalization\n",
    "    normalizer = Normalization()\n",
    "    normalizer.adapt(X_train)\n",
    "    \n",
    "    #arquitecture\n",
    "    model = models.Sequential()\n",
    "    model.add(normalizer)\n",
    "    model.add(layers.LSTM(128, activation='tanh', return_sequences=True))\n",
    "    #model.add(layers.LSTM(64, activation='tanh', return_sequences=False))\n",
    "    #model.add(layers.Dropout(rate=0.1))\n",
    "    output_len = y_train.shape[1]\n",
    "    model.add(layers.Dense(output_len, activation='linear'))\n",
    "    \n",
    "    #compile\n",
    "    adam = optimizers.Adam(learning_rate=0.02)\n",
    "    \n",
    "    model.compile(loss='mse',\n",
    "                 optimizer=adam,\n",
    "                 metrics=['mae'])\n",
    "    \n",
    "    return model"
   ]
  },
  {
   "cell_type": "code",
   "execution_count": 633,
   "id": "3ee4565b",
   "metadata": {},
   "outputs": [
    {
     "name": "stdout",
     "output_type": "stream",
     "text": [
      "Model: \"sequential_101\"\n",
      "_________________________________________________________________\n",
      " Layer (type)                Output Shape              Param #   \n",
      "=================================================================\n",
      " normalization_100 (Normaliz  (None, None, 3)          7         \n",
      " ation)                                                          \n",
      "                                                                 \n",
      " lstm_112 (LSTM)             (None, None, 128)         67584     \n",
      "                                                                 \n",
      " dense_95 (Dense)            (None, None, 1)           129       \n",
      "                                                                 \n",
      "=================================================================\n",
      "Total params: 67,720\n",
      "Trainable params: 67,713\n",
      "Non-trainable params: 7\n",
      "_________________________________________________________________\n"
     ]
    }
   ],
   "source": [
    "model_3 = init_model_3(X_train, y_train)\n",
    "model_3.summary()"
   ]
  },
  {
   "cell_type": "code",
   "execution_count": 634,
   "id": "cf9c493b",
   "metadata": {},
   "outputs": [],
   "source": [
    "es = EarlyStopping(patience=5, restore_best_weights=True)\n",
    "\n",
    "def fit_model(model):\n",
    "    \n",
    "    history = model.fit(X_train, y_train,\n",
    "                        validation_split=0.3,\n",
    "                        shuffle = False,\n",
    "                        batch_size=8,\n",
    "                        epochs=150,\n",
    "                        verbose=1,\n",
    "                        callbacks=[es]\n",
    "                       )\n",
    "    \n",
    "    return (model, history)"
   ]
  },
  {
   "cell_type": "code",
   "execution_count": 635,
   "id": "12df55e8",
   "metadata": {},
   "outputs": [
    {
     "name": "stdout",
     "output_type": "stream",
     "text": [
      "Epoch 1/150\n",
      "125/125 [==============================] - 1s 5ms/step - loss: 999932480.0000 - mae: 30804.6191 - val_loss: 370406848.0000 - val_mae: 17723.3984\n",
      "Epoch 2/150\n",
      "125/125 [==============================] - 0s 3ms/step - loss: 999042688.0000 - mae: 30790.6152 - val_loss: 370002304.0000 - val_mae: 17714.2617\n",
      "Epoch 3/150\n",
      "125/125 [==============================] - 0s 3ms/step - loss: 998489280.0000 - mae: 30781.8301 - val_loss: 369574368.0000 - val_mae: 17703.9023\n",
      "Epoch 4/150\n",
      "125/125 [==============================] - 0s 3ms/step - loss: 997961088.0000 - mae: 30773.4238 - val_loss: 369190848.0000 - val_mae: 17694.9609\n",
      "Epoch 5/150\n",
      "125/125 [==============================] - 0s 3ms/step - loss: 997446144.0000 - mae: 30765.2246 - val_loss: 368866176.0000 - val_mae: 17687.5176\n",
      "Epoch 6/150\n",
      "125/125 [==============================] - 0s 3ms/step - loss: 996941184.0000 - mae: 30757.1758 - val_loss: 368562464.0000 - val_mae: 17680.6582\n",
      "Epoch 7/150\n",
      "125/125 [==============================] - 0s 3ms/step - loss: 996436480.0000 - mae: 30749.1445 - val_loss: 368270016.0000 - val_mae: 17674.0762\n",
      "Epoch 8/150\n",
      "125/125 [==============================] - 0s 3ms/step - loss: 995931008.0000 - mae: 30741.0898 - val_loss: 367987648.0000 - val_mae: 17667.8027\n",
      "Epoch 9/150\n",
      "125/125 [==============================] - 0s 3ms/step - loss: 995430720.0000 - mae: 30733.0996 - val_loss: 367702656.0000 - val_mae: 17661.4531\n",
      "Epoch 10/150\n",
      "125/125 [==============================] - 0s 3ms/step - loss: 994919168.0000 - mae: 30724.9414 - val_loss: 367421120.0000 - val_mae: 17655.1738\n",
      "Epoch 11/150\n",
      "125/125 [==============================] - 0s 3ms/step - loss: 994419520.0000 - mae: 30716.9824 - val_loss: 367146528.0000 - val_mae: 17649.0449\n",
      "Epoch 12/150\n",
      "125/125 [==============================] - 0s 3ms/step - loss: 993925056.0000 - mae: 30709.1016 - val_loss: 366875648.0000 - val_mae: 17642.9961\n",
      "Epoch 13/150\n",
      "125/125 [==============================] - 0s 3ms/step - loss: 993433920.0000 - mae: 30701.2656 - val_loss: 366607840.0000 - val_mae: 17637.0039\n",
      "Epoch 14/150\n",
      "125/125 [==============================] - 0s 3ms/step - loss: 992943424.0000 - mae: 30693.4395 - val_loss: 366342400.0000 - val_mae: 17631.0508\n",
      "Epoch 15/150\n",
      "125/125 [==============================] - 0s 3ms/step - loss: 992453184.0000 - mae: 30685.6113 - val_loss: 366078688.0000 - val_mae: 17625.1191\n",
      "Epoch 16/150\n",
      "125/125 [==============================] - 0s 3ms/step - loss: 991962368.0000 - mae: 30677.7930 - val_loss: 365816832.0000 - val_mae: 17619.2012\n",
      "Epoch 17/150\n",
      "125/125 [==============================] - 0s 3ms/step - loss: 991471040.0000 - mae: 30669.9434 - val_loss: 365556352.0000 - val_mae: 17613.2871\n",
      "Epoch 18/150\n",
      "125/125 [==============================] - 0s 3ms/step - loss: 990978624.0000 - mae: 30662.0840 - val_loss: 365297248.0000 - val_mae: 17607.3770\n",
      "Epoch 19/150\n",
      "125/125 [==============================] - 0s 3ms/step - loss: 990485824.0000 - mae: 30654.2012 - val_loss: 365039328.0000 - val_mae: 17601.4453\n",
      "Epoch 20/150\n",
      "125/125 [==============================] - 0s 3ms/step - loss: 989991936.0000 - mae: 30646.3262 - val_loss: 364782784.0000 - val_mae: 17595.4785\n",
      "Epoch 21/150\n",
      "125/125 [==============================] - 0s 3ms/step - loss: 989498112.0000 - mae: 30638.4277 - val_loss: 364527776.0000 - val_mae: 17589.4375\n",
      "Epoch 22/150\n",
      "125/125 [==============================] - 0s 3ms/step - loss: 989004096.0000 - mae: 30630.5312 - val_loss: 364262016.0000 - val_mae: 17582.9824\n",
      "Epoch 23/150\n",
      "125/125 [==============================] - 0s 3ms/step - loss: 988510016.0000 - mae: 30622.6211 - val_loss: 364000608.0000 - val_mae: 17576.6621\n",
      "Epoch 24/150\n",
      "125/125 [==============================] - 0s 3ms/step - loss: 988016512.0000 - mae: 30614.7246 - val_loss: 363734144.0000 - val_mae: 17570.3672\n",
      "Epoch 25/150\n",
      "125/125 [==============================] - 0s 3ms/step - loss: 987523136.0000 - mae: 30606.8340 - val_loss: 363466400.0000 - val_mae: 17564.1387\n",
      "Epoch 26/150\n",
      "125/125 [==============================] - 0s 3ms/step - loss: 987030208.0000 - mae: 30598.9355 - val_loss: 363185568.0000 - val_mae: 17557.6680\n",
      "Epoch 27/150\n",
      "125/125 [==============================] - 0s 3ms/step - loss: 986538560.0000 - mae: 30591.0508 - val_loss: 362914368.0000 - val_mae: 17551.4277\n",
      "Epoch 28/150\n",
      "125/125 [==============================] - 0s 4ms/step - loss: 986046976.0000 - mae: 30583.1836 - val_loss: 362644000.0000 - val_mae: 17545.2129\n",
      "Epoch 29/150\n",
      "125/125 [==============================] - 0s 4ms/step - loss: 985556160.0000 - mae: 30575.3203 - val_loss: 362373696.0000 - val_mae: 17538.9941\n",
      "Epoch 30/150\n",
      "125/125 [==============================] - 0s 3ms/step - loss: 985066368.0000 - mae: 30567.4668 - val_loss: 362103520.0000 - val_mae: 17532.7832\n",
      "Epoch 31/150\n",
      "125/125 [==============================] - 0s 3ms/step - loss: 984577600.0000 - mae: 30559.6250 - val_loss: 361833568.0000 - val_mae: 17526.5703\n",
      "Epoch 32/150\n",
      "125/125 [==============================] - 0s 3ms/step - loss: 984089728.0000 - mae: 30551.7871 - val_loss: 361563744.0000 - val_mae: 17520.3672\n",
      "Epoch 33/150\n",
      "125/125 [==============================] - 0s 3ms/step - loss: 983602176.0000 - mae: 30543.9688 - val_loss: 361294112.0000 - val_mae: 17514.1602\n",
      "Epoch 34/150\n",
      "125/125 [==============================] - 0s 3ms/step - loss: 983115776.0000 - mae: 30536.1602 - val_loss: 361024704.0000 - val_mae: 17507.9648\n",
      "Epoch 35/150\n",
      "125/125 [==============================] - 0s 3ms/step - loss: 982629760.0000 - mae: 30528.3594 - val_loss: 360755424.0000 - val_mae: 17501.7656\n",
      "Epoch 36/150\n",
      "125/125 [==============================] - 0s 3ms/step - loss: 982144960.0000 - mae: 30520.5684 - val_loss: 360486400.0000 - val_mae: 17495.5742\n",
      "Epoch 37/150\n",
      "125/125 [==============================] - 0s 3ms/step - loss: 981660736.0000 - mae: 30512.7832 - val_loss: 360217792.0000 - val_mae: 17489.3867\n",
      "Epoch 38/150\n",
      "125/125 [==============================] - 0s 3ms/step - loss: 981177280.0000 - mae: 30505.0215 - val_loss: 359949408.0000 - val_mae: 17483.2051\n",
      "Epoch 39/150\n",
      "125/125 [==============================] - 0s 3ms/step - loss: 980694400.0000 - mae: 30497.2656 - val_loss: 359680960.0000 - val_mae: 17477.0176\n",
      "Epoch 40/150\n",
      "125/125 [==============================] - 0s 3ms/step - loss: 980212224.0000 - mae: 30489.5156 - val_loss: 359412768.0000 - val_mae: 17470.8379\n",
      "Epoch 41/150\n",
      "125/125 [==============================] - 0s 3ms/step - loss: 979730816.0000 - mae: 30481.7578 - val_loss: 359144736.0000 - val_mae: 17464.6504\n",
      "Epoch 42/150\n",
      "125/125 [==============================] - 0s 3ms/step - loss: 979249728.0000 - mae: 30474.0254 - val_loss: 358876736.0000 - val_mae: 17458.4629\n",
      "Epoch 43/150\n",
      "125/125 [==============================] - 0s 3ms/step - loss: 978769152.0000 - mae: 30466.2812 - val_loss: 358608832.0000 - val_mae: 17452.2793\n",
      "Epoch 44/150\n",
      "125/125 [==============================] - 0s 3ms/step - loss: 978289856.0000 - mae: 30458.5664 - val_loss: 358341024.0000 - val_mae: 17446.0898\n",
      "Epoch 45/150\n",
      "125/125 [==============================] - 0s 3ms/step - loss: 977810112.0000 - mae: 30450.8535 - val_loss: 358073344.0000 - val_mae: 17439.9023\n",
      "Epoch 46/150\n",
      "125/125 [==============================] - 0s 3ms/step - loss: 977331264.0000 - mae: 30443.1406 - val_loss: 357805728.0000 - val_mae: 17433.7148\n",
      "Epoch 47/150\n",
      "125/125 [==============================] - 0s 3ms/step - loss: 976853184.0000 - mae: 30435.4277 - val_loss: 357538272.0000 - val_mae: 17427.5176\n",
      "Epoch 48/150\n",
      "125/125 [==============================] - 0s 3ms/step - loss: 976375680.0000 - mae: 30427.7344 - val_loss: 357270784.0000 - val_mae: 17421.3223\n",
      "Epoch 49/150\n",
      "125/125 [==============================] - 0s 3ms/step - loss: 975898240.0000 - mae: 30420.0371 - val_loss: 357003392.0000 - val_mae: 17415.1270\n",
      "Epoch 50/150\n",
      "125/125 [==============================] - 0s 3ms/step - loss: 975420864.0000 - mae: 30412.3594 - val_loss: 356736032.0000 - val_mae: 17408.9277\n",
      "Epoch 51/150\n",
      "125/125 [==============================] - 0s 3ms/step - loss: 974944768.0000 - mae: 30404.6797 - val_loss: 356468608.0000 - val_mae: 17402.7207\n",
      "Epoch 52/150\n",
      "125/125 [==============================] - 0s 3ms/step - loss: 974468480.0000 - mae: 30396.9844 - val_loss: 356201216.0000 - val_mae: 17396.5176\n"
     ]
    },
    {
     "name": "stdout",
     "output_type": "stream",
     "text": [
      "Epoch 53/150\n",
      "125/125 [==============================] - 0s 3ms/step - loss: 973992384.0000 - mae: 30389.3203 - val_loss: 355933888.0000 - val_mae: 17390.3066\n",
      "Epoch 54/150\n",
      "125/125 [==============================] - 0s 3ms/step - loss: 973517376.0000 - mae: 30381.6426 - val_loss: 355666688.0000 - val_mae: 17384.0938\n",
      "Epoch 55/150\n",
      "125/125 [==============================] - 0s 3ms/step - loss: 973042176.0000 - mae: 30373.9902 - val_loss: 355399488.0000 - val_mae: 17377.8828\n",
      "Epoch 56/150\n",
      "125/125 [==============================] - 0s 3ms/step - loss: 972567488.0000 - mae: 30366.3125 - val_loss: 355132224.0000 - val_mae: 17371.6660\n",
      "Epoch 57/150\n",
      "125/125 [==============================] - 0s 3ms/step - loss: 972093312.0000 - mae: 30358.6582 - val_loss: 354865024.0000 - val_mae: 17365.4453\n",
      "Epoch 58/150\n",
      "125/125 [==============================] - 0s 3ms/step - loss: 971619136.0000 - mae: 30351.0059 - val_loss: 354597888.0000 - val_mae: 17359.2246\n",
      "Epoch 59/150\n",
      "125/125 [==============================] - 0s 3ms/step - loss: 971145408.0000 - mae: 30343.3457 - val_loss: 354330752.0000 - val_mae: 17353.0039\n",
      "Epoch 60/150\n",
      "125/125 [==============================] - 0s 3ms/step - loss: 970672128.0000 - mae: 30335.6934 - val_loss: 354063808.0000 - val_mae: 17346.7773\n",
      "Epoch 61/150\n",
      "125/125 [==============================] - 0s 3ms/step - loss: 970198592.0000 - mae: 30328.0586 - val_loss: 353796672.0000 - val_mae: 17340.5508\n",
      "Epoch 62/150\n",
      "125/125 [==============================] - 0s 3ms/step - loss: 969725760.0000 - mae: 30320.3984 - val_loss: 353529696.0000 - val_mae: 17334.3184\n",
      "Epoch 63/150\n",
      "125/125 [==============================] - 0s 3ms/step - loss: 969253248.0000 - mae: 30312.7559 - val_loss: 353262816.0000 - val_mae: 17328.0898\n",
      "Epoch 64/150\n",
      "125/125 [==============================] - 0s 3ms/step - loss: 968780928.0000 - mae: 30305.1133 - val_loss: 352995808.0000 - val_mae: 17321.8516\n",
      "Epoch 65/150\n",
      "125/125 [==============================] - 0s 3ms/step - loss: 968308864.0000 - mae: 30297.4805 - val_loss: 352728992.0000 - val_mae: 17315.6191\n",
      "Epoch 66/150\n",
      "125/125 [==============================] - 0s 3ms/step - loss: 967837056.0000 - mae: 30289.8379 - val_loss: 352462080.0000 - val_mae: 17309.3789\n",
      "Epoch 67/150\n",
      "125/125 [==============================] - 0s 3ms/step - loss: 967365376.0000 - mae: 30282.2070 - val_loss: 352195264.0000 - val_mae: 17303.1387\n",
      "Epoch 68/150\n",
      "125/125 [==============================] - 0s 3ms/step - loss: 966893888.0000 - mae: 30274.5820 - val_loss: 351928480.0000 - val_mae: 17296.8965\n",
      "Epoch 69/150\n",
      "125/125 [==============================] - 0s 3ms/step - loss: 966422976.0000 - mae: 30266.9414 - val_loss: 351661792.0000 - val_mae: 17290.6543\n",
      "Epoch 70/150\n",
      "125/125 [==============================] - 0s 3ms/step - loss: 965951616.0000 - mae: 30259.3125 - val_loss: 351395040.0000 - val_mae: 17284.4082\n",
      "Epoch 71/150\n",
      "125/125 [==============================] - 0s 3ms/step - loss: 965481408.0000 - mae: 30251.6816 - val_loss: 351128320.0000 - val_mae: 17278.1582\n",
      "Epoch 72/150\n",
      "125/125 [==============================] - 0s 3ms/step - loss: 965010816.0000 - mae: 30244.0586 - val_loss: 350861600.0000 - val_mae: 17271.9102\n",
      "Epoch 73/150\n",
      "125/125 [==============================] - 0s 3ms/step - loss: 964540352.0000 - mae: 30236.4316 - val_loss: 350595008.0000 - val_mae: 17265.6582\n",
      "Epoch 74/150\n",
      "125/125 [==============================] - 0s 3ms/step - loss: 964070400.0000 - mae: 30228.8066 - val_loss: 350328480.0000 - val_mae: 17259.3984\n",
      "Epoch 75/150\n",
      "125/125 [==============================] - 0s 3ms/step - loss: 963600448.0000 - mae: 30221.1895 - val_loss: 350061920.0000 - val_mae: 17253.1465\n",
      "Epoch 76/150\n",
      "125/125 [==============================] - 0s 3ms/step - loss: 963130816.0000 - mae: 30213.5586 - val_loss: 349795328.0000 - val_mae: 17246.8867\n",
      "Epoch 77/150\n",
      "125/125 [==============================] - 0s 3ms/step - loss: 962661504.0000 - mae: 30205.9570 - val_loss: 349528896.0000 - val_mae: 17240.6250\n",
      "Epoch 78/150\n",
      "125/125 [==============================] - 0s 4ms/step - loss: 962192320.0000 - mae: 30198.3340 - val_loss: 349262464.0000 - val_mae: 17234.3613\n",
      "Epoch 79/150\n",
      "125/125 [==============================] - 0s 3ms/step - loss: 961723136.0000 - mae: 30190.7109 - val_loss: 348996000.0000 - val_mae: 17228.0957\n",
      "Epoch 80/150\n",
      "125/125 [==============================] - 0s 4ms/step - loss: 961254080.0000 - mae: 30183.0898 - val_loss: 348729600.0000 - val_mae: 17221.8281\n",
      "Epoch 81/150\n",
      "125/125 [==============================] - 0s 3ms/step - loss: 960785344.0000 - mae: 30175.4746 - val_loss: 348463104.0000 - val_mae: 17215.5566\n",
      "Epoch 82/150\n",
      "125/125 [==============================] - 0s 3ms/step - loss: 960316800.0000 - mae: 30167.8672 - val_loss: 348196640.0000 - val_mae: 17209.2734\n",
      "Epoch 83/150\n",
      "125/125 [==============================] - 0s 3ms/step - loss: 959848448.0000 - mae: 30160.2520 - val_loss: 347929600.0000 - val_mae: 17202.9668\n",
      "Epoch 84/150\n",
      "125/125 [==============================] - 0s 3ms/step - loss: 959380672.0000 - mae: 30152.6445 - val_loss: 347661408.0000 - val_mae: 17196.5879\n",
      "Epoch 85/150\n",
      "125/125 [==============================] - 0s 3ms/step - loss: 958912512.0000 - mae: 30145.0312 - val_loss: 347391136.0000 - val_mae: 17189.9863\n",
      "Epoch 86/150\n",
      "125/125 [==============================] - 0s 3ms/step - loss: 958444544.0000 - mae: 30137.4180 - val_loss: 347124960.0000 - val_mae: 17183.6895\n",
      "Epoch 87/150\n",
      "125/125 [==============================] - 0s 3ms/step - loss: 957977088.0000 - mae: 30129.8125 - val_loss: 346859104.0000 - val_mae: 17177.4062\n",
      "Epoch 88/150\n",
      "125/125 [==============================] - 0s 3ms/step - loss: 957509696.0000 - mae: 30122.2051 - val_loss: 346593600.0000 - val_mae: 17171.1348\n",
      "Epoch 89/150\n",
      "125/125 [==============================] - 0s 3ms/step - loss: 957042560.0000 - mae: 30114.5898 - val_loss: 346328256.0000 - val_mae: 17164.8789\n",
      "Epoch 90/150\n",
      "125/125 [==============================] - 0s 3ms/step - loss: 956575296.0000 - mae: 30106.9883 - val_loss: 346063232.0000 - val_mae: 17158.6934\n",
      "Epoch 91/150\n",
      "125/125 [==============================] - 0s 4ms/step - loss: 956108160.0000 - mae: 30099.3848 - val_loss: 345799328.0000 - val_mae: 17153.5742\n",
      "Epoch 92/150\n",
      "125/125 [==============================] - 0s 3ms/step - loss: 955641216.0000 - mae: 30091.7715 - val_loss: 345534496.0000 - val_mae: 17147.3438\n",
      "Epoch 93/150\n",
      "125/125 [==============================] - 0s 3ms/step - loss: 955174464.0000 - mae: 30084.1621 - val_loss: 345270016.0000 - val_mae: 17141.0957\n",
      "Epoch 94/150\n",
      "125/125 [==============================] - 0s 3ms/step - loss: 954708544.0000 - mae: 30076.5645 - val_loss: 345005472.0000 - val_mae: 17134.8418\n",
      "Epoch 95/150\n",
      "125/125 [==============================] - 0s 3ms/step - loss: 954241984.0000 - mae: 30068.9570 - val_loss: 344741120.0000 - val_mae: 17128.5898\n",
      "Epoch 96/150\n",
      "125/125 [==============================] - 0s 3ms/step - loss: 953775296.0000 - mae: 30061.3691 - val_loss: 344476992.0000 - val_mae: 17122.3418\n",
      "Epoch 97/150\n",
      "125/125 [==============================] - 0s 3ms/step - loss: 953309760.0000 - mae: 30053.7578 - val_loss: 344212832.0000 - val_mae: 17116.0859\n",
      "Epoch 98/150\n",
      "125/125 [==============================] - 0s 3ms/step - loss: 952843776.0000 - mae: 30046.1367 - val_loss: 343948896.0000 - val_mae: 17109.8398\n",
      "Epoch 99/150\n",
      "125/125 [==============================] - 0s 3ms/step - loss: 952378048.0000 - mae: 30038.5488 - val_loss: 343685024.0000 - val_mae: 17103.5898\n",
      "Epoch 100/150\n",
      "125/125 [==============================] - 0s 3ms/step - loss: 951912320.0000 - mae: 30030.9512 - val_loss: 343421344.0000 - val_mae: 17097.3359\n",
      "Epoch 101/150\n",
      "125/125 [==============================] - 0s 3ms/step - loss: 951446720.0000 - mae: 30023.3457 - val_loss: 343157632.0000 - val_mae: 17091.0859\n",
      "Epoch 102/150\n",
      "125/125 [==============================] - 0s 3ms/step - loss: 950981632.0000 - mae: 30015.7500 - val_loss: 342894016.0000 - val_mae: 17084.8301\n",
      "Epoch 103/150\n",
      "125/125 [==============================] - 0s 3ms/step - loss: 950516032.0000 - mae: 30008.1426 - val_loss: 342630560.0000 - val_mae: 17078.5801\n",
      "Epoch 104/150\n",
      "125/125 [==============================] - 0s 3ms/step - loss: 950051456.0000 - mae: 30000.5410 - val_loss: 342367264.0000 - val_mae: 17072.3262\n"
     ]
    },
    {
     "name": "stdout",
     "output_type": "stream",
     "text": [
      "Epoch 105/150\n",
      "125/125 [==============================] - 0s 3ms/step - loss: 949586496.0000 - mae: 29992.9434 - val_loss: 342103968.0000 - val_mae: 17066.0801\n",
      "Epoch 106/150\n",
      "125/125 [==============================] - 0s 3ms/step - loss: 949121600.0000 - mae: 29985.3398 - val_loss: 341840896.0000 - val_mae: 17059.8359\n",
      "Epoch 107/150\n",
      "125/125 [==============================] - 0s 3ms/step - loss: 948657024.0000 - mae: 29977.7461 - val_loss: 341578144.0000 - val_mae: 17053.5898\n",
      "Epoch 108/150\n",
      "125/125 [==============================] - 0s 3ms/step - loss: 948192896.0000 - mae: 29970.1484 - val_loss: 341315424.0000 - val_mae: 17047.3457\n",
      "Epoch 109/150\n",
      "125/125 [==============================] - 0s 3ms/step - loss: 947728064.0000 - mae: 29962.5488 - val_loss: 341052896.0000 - val_mae: 17041.0996\n",
      "Epoch 110/150\n",
      "125/125 [==============================] - 0s 3ms/step - loss: 947263680.0000 - mae: 29954.9492 - val_loss: 340790528.0000 - val_mae: 17034.8594\n",
      "Epoch 111/150\n",
      "125/125 [==============================] - 0s 3ms/step - loss: 946800000.0000 - mae: 29947.3516 - val_loss: 340528320.0000 - val_mae: 17028.6211\n",
      "Epoch 112/150\n",
      "125/125 [==============================] - 0s 3ms/step - loss: 946336128.0000 - mae: 29939.7500 - val_loss: 340266304.0000 - val_mae: 17022.3848\n",
      "Epoch 113/150\n",
      "125/125 [==============================] - 0s 3ms/step - loss: 945871872.0000 - mae: 29932.1504 - val_loss: 340004384.0000 - val_mae: 17016.1465\n",
      "Epoch 114/150\n",
      "125/125 [==============================] - 0s 3ms/step - loss: 945408384.0000 - mae: 29924.5605 - val_loss: 339742560.0000 - val_mae: 17009.9180\n",
      "Epoch 115/150\n",
      "125/125 [==============================] - 0s 3ms/step - loss: 944944960.0000 - mae: 29916.9609 - val_loss: 339480864.0000 - val_mae: 17003.6855\n",
      "Epoch 116/150\n",
      "125/125 [==============================] - 0s 3ms/step - loss: 944481408.0000 - mae: 29909.3672 - val_loss: 339219392.0000 - val_mae: 16997.4609\n",
      "Epoch 117/150\n",
      "125/125 [==============================] - 0s 4ms/step - loss: 944017984.0000 - mae: 29901.7695 - val_loss: 338957952.0000 - val_mae: 16991.2344\n",
      "Epoch 118/150\n",
      "125/125 [==============================] - 0s 3ms/step - loss: 943555008.0000 - mae: 29894.1758 - val_loss: 338696704.0000 - val_mae: 16985.0078\n",
      "Epoch 119/150\n",
      "125/125 [==============================] - 0s 3ms/step - loss: 943091840.0000 - mae: 29886.5781 - val_loss: 338435744.0000 - val_mae: 16978.7871\n",
      "Epoch 120/150\n",
      "125/125 [==============================] - 0s 3ms/step - loss: 942628864.0000 - mae: 29878.9746 - val_loss: 338175008.0000 - val_mae: 16972.5625\n",
      "Epoch 121/150\n",
      "125/125 [==============================] - 0s 3ms/step - loss: 942165696.0000 - mae: 29871.3711 - val_loss: 337914400.0000 - val_mae: 16966.3457\n",
      "Epoch 122/150\n",
      "125/125 [==============================] - 0s 3ms/step - loss: 941703232.0000 - mae: 29863.7852 - val_loss: 337653920.0000 - val_mae: 16960.1211\n",
      "Epoch 123/150\n",
      "125/125 [==============================] - 0s 3ms/step - loss: 941240768.0000 - mae: 29856.1758 - val_loss: 337393632.0000 - val_mae: 16953.9238\n",
      "Epoch 124/150\n",
      "125/125 [==============================] - 0s 3ms/step - loss: 940778048.0000 - mae: 29848.5879 - val_loss: 337133344.0000 - val_mae: 16947.7422\n",
      "Epoch 125/150\n",
      "125/125 [==============================] - 0s 3ms/step - loss: 940315776.0000 - mae: 29840.9941 - val_loss: 336872992.0000 - val_mae: 16941.5625\n",
      "Epoch 126/150\n",
      "125/125 [==============================] - 0s 3ms/step - loss: 939853312.0000 - mae: 29833.3965 - val_loss: 336612800.0000 - val_mae: 16935.3906\n",
      "Epoch 127/150\n",
      "125/125 [==============================] - 0s 3ms/step - loss: 939391424.0000 - mae: 29825.7949 - val_loss: 336352544.0000 - val_mae: 16929.2207\n",
      "Epoch 128/150\n",
      "125/125 [==============================] - 0s 3ms/step - loss: 938929344.0000 - mae: 29818.1875 - val_loss: 336092384.0000 - val_mae: 16923.0527\n",
      "Epoch 129/150\n",
      "125/125 [==============================] - 0s 3ms/step - loss: 938467520.0000 - mae: 29810.5918 - val_loss: 335832096.0000 - val_mae: 16916.8926\n",
      "Epoch 130/150\n",
      "125/125 [==============================] - 0s 3ms/step - loss: 938005440.0000 - mae: 29802.9980 - val_loss: 335571840.0000 - val_mae: 16910.7422\n",
      "Epoch 131/150\n",
      "125/125 [==============================] - 0s 3ms/step - loss: 937543872.0000 - mae: 29795.4004 - val_loss: 335311360.0000 - val_mae: 16904.5879\n",
      "Epoch 132/150\n",
      "125/125 [==============================] - 0s 3ms/step - loss: 937081984.0000 - mae: 29787.8008 - val_loss: 335050656.0000 - val_mae: 16898.4512\n",
      "Epoch 133/150\n",
      "125/125 [==============================] - 0s 4ms/step - loss: 936620800.0000 - mae: 29780.2129 - val_loss: 334789696.0000 - val_mae: 16892.3184\n",
      "Epoch 134/150\n",
      "125/125 [==============================] - 0s 3ms/step - loss: 936159296.0000 - mae: 29772.6074 - val_loss: 334528128.0000 - val_mae: 16886.2148\n",
      "Epoch 135/150\n",
      "125/125 [==============================] - 0s 3ms/step - loss: 935698368.0000 - mae: 29765.0059 - val_loss: 334265024.0000 - val_mae: 16880.1641\n",
      "Epoch 136/150\n",
      "125/125 [==============================] - 0s 3ms/step - loss: 935237248.0000 - mae: 29757.4043 - val_loss: 333995680.0000 - val_mae: 16874.4766\n",
      "Epoch 137/150\n",
      "125/125 [==============================] - 0s 3ms/step - loss: 934776064.0000 - mae: 29749.8105 - val_loss: 333705536.0000 - val_mae: 16870.3379\n",
      "Epoch 138/150\n",
      "125/125 [==============================] - 0s 3ms/step - loss: 934315392.0000 - mae: 29742.2129 - val_loss: 333408352.0000 - val_mae: 16864.8184\n",
      "Epoch 139/150\n",
      "125/125 [==============================] - 0s 3ms/step - loss: 933854400.0000 - mae: 29734.6172 - val_loss: 333118656.0000 - val_mae: 16858.8750\n",
      "Epoch 140/150\n",
      "125/125 [==============================] - 0s 3ms/step - loss: 933393792.0000 - mae: 29727.0215 - val_loss: 332834784.0000 - val_mae: 16852.7637\n",
      "Epoch 141/150\n",
      "125/125 [==============================] - 0s 3ms/step - loss: 932933312.0000 - mae: 29719.4277 - val_loss: 332555072.0000 - val_mae: 16846.6074\n",
      "Epoch 142/150\n",
      "125/125 [==============================] - 0s 4ms/step - loss: 932472896.0000 - mae: 29711.8203 - val_loss: 332277120.0000 - val_mae: 16840.4102\n",
      "Epoch 143/150\n",
      "125/125 [==============================] - 0s 3ms/step - loss: 932012608.0000 - mae: 29704.2188 - val_loss: 332002784.0000 - val_mae: 16834.2148\n",
      "Epoch 144/150\n",
      "125/125 [==============================] - 0s 3ms/step - loss: 931552512.0000 - mae: 29696.6191 - val_loss: 331731104.0000 - val_mae: 16828.0039\n",
      "Epoch 145/150\n",
      "125/125 [==============================] - 0s 3ms/step - loss: 931092160.0000 - mae: 29689.0234 - val_loss: 331458304.0000 - val_mae: 16821.7852\n",
      "Epoch 146/150\n",
      "125/125 [==============================] - 0s 3ms/step - loss: 930632640.0000 - mae: 29681.4316 - val_loss: 331188512.0000 - val_mae: 16815.5781\n",
      "Epoch 147/150\n",
      "125/125 [==============================] - 0s 3ms/step - loss: 930172736.0000 - mae: 29673.8301 - val_loss: 330921568.0000 - val_mae: 16809.3809\n",
      "Epoch 148/150\n",
      "125/125 [==============================] - 0s 3ms/step - loss: 929713216.0000 - mae: 29666.2383 - val_loss: 330654496.0000 - val_mae: 16803.1738\n",
      "Epoch 149/150\n",
      "125/125 [==============================] - 0s 3ms/step - loss: 929253952.0000 - mae: 29658.6348 - val_loss: 330387168.0000 - val_mae: 16796.9668\n",
      "Epoch 150/150\n",
      "125/125 [==============================] - 0s 3ms/step - loss: 928794496.0000 - mae: 29651.0391 - val_loss: 330120800.0000 - val_mae: 16790.7734\n"
     ]
    }
   ],
   "source": [
    "model_3, history_3 = fit_model(model_3)"
   ]
  },
  {
   "cell_type": "code",
   "execution_count": 636,
   "id": "4fa5cbcb",
   "metadata": {},
   "outputs": [
    {
     "data": {
      "text/plain": [
       "array([<Axes: title={'center': 'MSE'}, xlabel='Epoch', ylabel='Loss'>,\n",
       "       <Axes: title={'center': 'MAE'}, xlabel='Epoch', ylabel='MAE'>],\n",
       "      dtype=object)"
      ]
     },
     "execution_count": 636,
     "metadata": {},
     "output_type": "execute_result"
    },
    {
     "data": {
      "image/png": "[encoded data removed]",
      "text/plain": [
       "<Figure size 2000x700 with 2 Axes>"
      ]
     },
     "metadata": {},
     "output_type": "display_data"
    }
   ],
   "source": [
    "plot_history(history_3)"
   ]
  },
  {
   "cell_type": "code",
   "execution_count": 631,
   "id": "070293d0",
   "metadata": {},
   "outputs": [
    {
     "data": {
      "text/plain": [
       "[24016444.0, 2531.003173828125]"
      ]
     },
     "execution_count": 631,
     "metadata": {},
     "output_type": "execute_result"
    }
   ],
   "source": [
    "res3 = model_3.evaluate(X_test, y_test, verbose=0)\n",
    "res3"
   ]
  },
  {
   "cell_type": "code",
   "execution_count": 307,
   "id": "caea959a",
   "metadata": {},
   "outputs": [],
   "source": [
    "mae_results['res3'] = res3[1]"
   ]
  },
  {
   "cell_type": "markdown",
   "id": "7bf78b62",
   "metadata": {
    "heading_collapsed": true
   },
   "source": [
    "#### learning rate = 0.16"
   ]
  },
  {
   "cell_type": "code",
   "execution_count": 517,
   "id": "67366ed1",
   "metadata": {
    "hidden": true
   },
   "outputs": [],
   "source": [
    "def init_model_4(X_train, y_train):\n",
    "    \n",
    "    #normalization\n",
    "    normalizer = Normalization()\n",
    "    normalizer.adapt(X_train)\n",
    "    \n",
    "    #arquitecture\n",
    "    model = models.Sequential()\n",
    "    model.add(normalizer)\n",
    "    model.add(layers.LSTM(64, activation='tanh'))\n",
    "    model.add(layers.BatchNormalization(momentum=0.9))\n",
    "    #model.add(layers.Dropout(rate=0.1))\n",
    "    output_len = y_train.shape[1]\n",
    "    model.add(layers.Dense(output_len, activation='linear'))\n",
    "    \n",
    "    #compile\n",
    "    adam = optimizers.Adam(learning_rate=0.16)\n",
    "    \n",
    "    model.compile(loss='mse',\n",
    "                 optimizer=adam,\n",
    "                 metrics=['mae'])\n",
    "    \n",
    "    return model"
   ]
  },
  {
   "cell_type": "code",
   "execution_count": 518,
   "id": "e9c0448a",
   "metadata": {
    "hidden": true
   },
   "outputs": [
    {
     "name": "stdout",
     "output_type": "stream",
     "text": [
      "Model: \"sequential_82\"\n",
      "_________________________________________________________________\n",
      " Layer (type)                Output Shape              Param #   \n",
      "=================================================================\n",
      " normalization_81 (Normaliza  (None, None, 3)          7         \n",
      " tion)                                                           \n",
      "                                                                 \n",
      " lstm_90 (LSTM)              (None, 64)                17408     \n",
      "                                                                 \n",
      " batch_normalization_21 (Bat  (None, 64)               256       \n",
      " chNormalization)                                                \n",
      "                                                                 \n",
      " dense_76 (Dense)            (None, 1)                 65        \n",
      "                                                                 \n",
      "=================================================================\n",
      "Total params: 17,736\n",
      "Trainable params: 17,601\n",
      "Non-trainable params: 135\n",
      "_________________________________________________________________\n"
     ]
    }
   ],
   "source": [
    "model_4 = init_model_4(X_train, y_train)\n",
    "model_4.summary()"
   ]
  },
  {
   "cell_type": "code",
   "execution_count": 519,
   "id": "1fe4c65f",
   "metadata": {
    "hidden": true
   },
   "outputs": [],
   "source": [
    "es = EarlyStopping(patience=5, restore_best_weights=True)\n",
    "\n",
    "def fit_model(model):\n",
    "    \n",
    "    history = model.fit(X_train, y_train,\n",
    "                        validation_split=0.3,\n",
    "                        shuffle = False,\n",
    "                        batch_size=8,\n",
    "                        epochs=150,\n",
    "                        verbose=1,\n",
    "                        callbacks=[es]\n",
    "                       )\n",
    "    \n",
    "    return (model, history)"
   ]
  },
  {
   "cell_type": "code",
   "execution_count": 520,
   "id": "8ecb020a",
   "metadata": {
    "hidden": true
   },
   "outputs": [
    {
     "name": "stdout",
     "output_type": "stream",
     "text": [
      "Epoch 1/150\n",
      "125/125 [==============================] - 1s 4ms/step - loss: 557277376.0000 - mae: 19858.3301 - val_loss: 188008864.0000 - val_mae: 11564.8623\n",
      "Epoch 2/150\n",
      "125/125 [==============================] - 0s 2ms/step - loss: 59149952.0000 - mae: 5289.7544 - val_loss: 92617160.0000 - val_mae: 6757.6104\n",
      "Epoch 3/150\n",
      "125/125 [==============================] - 0s 2ms/step - loss: 59838632.0000 - mae: 5321.5107 - val_loss: 188243104.0000 - val_mae: 11102.1523\n",
      "Epoch 4/150\n",
      "125/125 [==============================] - 0s 2ms/step - loss: 59847464.0000 - mae: 5323.8579 - val_loss: 197751600.0000 - val_mae: 11705.2676\n",
      "Epoch 5/150\n",
      "125/125 [==============================] - 0s 2ms/step - loss: 59864416.0000 - mae: 5321.6499 - val_loss: 218988304.0000 - val_mae: 11981.6455\n",
      "Epoch 6/150\n",
      "125/125 [==============================] - 0s 2ms/step - loss: 59859192.0000 - mae: 5321.7974 - val_loss: 344327616.0000 - val_mae: 15349.4961\n",
      "Epoch 7/150\n",
      "125/125 [==============================] - 0s 2ms/step - loss: 60054968.0000 - mae: 5323.1831 - val_loss: 309614080.0000 - val_mae: 14749.2324\n"
     ]
    }
   ],
   "source": [
    "model_4, history_4 = fit_model(model_4)"
   ]
  },
  {
   "cell_type": "code",
   "execution_count": 521,
   "id": "a858cff4",
   "metadata": {
    "hidden": true
   },
   "outputs": [
    {
     "data": {
      "text/plain": [
       "array([<Axes: title={'center': 'MSE'}, xlabel='Epoch', ylabel='Loss'>,\n",
       "       <Axes: title={'center': 'MAE'}, xlabel='Epoch', ylabel='MAE'>],\n",
       "      dtype=object)"
      ]
     },
     "execution_count": 521,
     "metadata": {},
     "output_type": "execute_result"
    },
    {
     "data": {
      "image/png": "[encoded data removed]",
      "text/plain": [
       "<Figure size 2000x700 with 2 Axes>"
      ]
     },
     "metadata": {},
     "output_type": "display_data"
    }
   ],
   "source": [
    "plot_history(history_4)"
   ]
  },
  {
   "cell_type": "code",
   "execution_count": 435,
   "id": "9c48800d",
   "metadata": {
    "hidden": true
   },
   "outputs": [
    {
     "data": {
      "text/plain": [
       "[18725768.0, 2245.201171875]"
      ]
     },
     "execution_count": 435,
     "metadata": {},
     "output_type": "execute_result"
    }
   ],
   "source": [
    "res4 = model_4.evaluate(X_test, y_test, verbose=0)\n",
    "res4"
   ]
  },
  {
   "cell_type": "code",
   "execution_count": 436,
   "id": "ab6a0e1c",
   "metadata": {
    "hidden": true
   },
   "outputs": [],
   "source": [
    "mae_results['res4'] = res4[1]"
   ]
  },
  {
   "cell_type": "code",
   "execution_count": 437,
   "id": "6756f3e9",
   "metadata": {
    "hidden": true
   },
   "outputs": [
    {
     "data": {
      "text/plain": [
       "{'res': 2530.6484375,\n",
       " 'res2': 2513.102294921875,\n",
       " 'res3': 2527.82666015625,\n",
       " 'res4': 2245.201171875}"
      ]
     },
     "execution_count": 437,
     "metadata": {},
     "output_type": "execute_result"
    }
   ],
   "source": [
    "mae_results"
   ]
  },
  {
   "cell_type": "markdown",
   "id": "a5257266",
   "metadata": {},
   "source": [
    "#### Model to test"
   ]
  },
  {
   "cell_type": "code",
   "execution_count": 513,
   "id": "f74ccef0",
   "metadata": {},
   "outputs": [
    {
     "name": "stdout",
     "output_type": "stream",
     "text": [
      "(1430, 14, 16)\n",
      "(1430, 1, 1)\n"
     ]
    }
   ],
   "source": [
    "folds_complete = get_folds(df, FOLD_LENGTH, FOLD_STRIDE)\n",
    "fold_complete = folds_complete[0]\n",
    "(fold_train_complete, fold_test_complete) = train_test_split(fold_complete, TRAIN_TEST_RATIO, INPUT_LENGTH)\n",
    "\n",
    "X_train_c, y_train_c = get_X_y_strides(fold_train_complete, INPUT_LENGTH, OUTPUT_LENGTH, SEQUENCE_STRIDE)\n",
    "X_test_c, y_test_c = get_X_y_strides(fold_test_complete, INPUT_LENGTH, OUTPUT_LENGTH, SEQUENCE_STRIDE)\n",
    "\n",
    "print(X_train_c.shape)\n",
    "print(y_train_c.shape)"
   ]
  },
  {
   "cell_type": "code",
   "execution_count": 515,
   "id": "d32c2294",
   "metadata": {},
   "outputs": [],
   "source": [
    "def init_model_4(X_train, y_train):\n",
    "    \n",
    "    #normalization\n",
    "    normalizer = Normalization()\n",
    "    normalizer.adapt(X_train)\n",
    "    \n",
    "    #arquitecture\n",
    "    model = models.Sequential()\n",
    "    model.add(normalizer)\n",
    "    model.add(layers.LSTM(64, activation='tanh'))\n",
    "    model.add(layers.BatchNormalization(momentum=0.90))\n",
    "    output_len = y_train.shape[1]\n",
    "    model.add(layers.Dense(output_len, activation='linear'))\n",
    "    \n",
    "    #compile\n",
    "    adam = optimizers.Adam(learning_rate=0.16)\n",
    "    \n",
    "    model.compile(loss='mse',\n",
    "                 optimizer=adam,\n",
    "                 metrics=['mae'])\n",
    "    \n",
    "    return model"
   ]
  },
  {
   "cell_type": "code",
   "execution_count": 516,
   "id": "945a0549",
   "metadata": {},
   "outputs": [
    {
     "name": "stdout",
     "output_type": "stream",
     "text": [
      "Model: \"sequential_81\"\n",
      "_________________________________________________________________\n",
      " Layer (type)                Output Shape              Param #   \n",
      "=================================================================\n",
      " normalization_80 (Normaliza  (None, None, 16)         33        \n",
      " tion)                                                           \n",
      "                                                                 \n",
      " lstm_89 (LSTM)              (None, 64)                20736     \n",
      "                                                                 \n",
      " dense_75 (Dense)            (None, 1)                 65        \n",
      "                                                                 \n",
      "=================================================================\n",
      "Total params: 20,834\n",
      "Trainable params: 20,801\n",
      "Non-trainable params: 33\n",
      "_________________________________________________________________\n"
     ]
    }
   ],
   "source": [
    "model_5 = init_model_4(X_train_c, y_train_c)\n",
    "model_5.summary()"
   ]
  },
  {
   "cell_type": "code",
   "execution_count": 508,
   "id": "1fe13244",
   "metadata": {},
   "outputs": [],
   "source": [
    "es = EarlyStopping(patience=5, restore_best_weights=True)\n",
    "\n",
    "def fit_model(model):\n",
    "    \n",
    "    history = model.fit(X_train, y_train,\n",
    "                        validation_split=0.3,\n",
    "                        shuffle = False,\n",
    "                        batch_size=8,\n",
    "                        epochs=150,\n",
    "                        verbose=1,\n",
    "                        callbacks=[es]\n",
    "                       )\n",
    "    \n",
    "    return (model, history)"
   ]
  },
  {
   "cell_type": "code",
   "execution_count": 509,
   "id": "05e8fc25",
   "metadata": {},
   "outputs": [
    {
     "name": "stdout",
     "output_type": "stream",
     "text": [
      "Epoch 1/150\n",
      "125/125 [==============================] - 2s 4ms/step - loss: 996147712.0000 - mae: 30742.6211 - val_loss: 365383552.0000 - val_mae: 17608.5098\n",
      "Epoch 2/150\n",
      "125/125 [==============================] - 0s 2ms/step - loss: 987228352.0000 - mae: 30599.7891 - val_loss: 360309696.0000 - val_mae: 17495.0898\n",
      "Epoch 3/150\n",
      "125/125 [==============================] - 0s 2ms/step - loss: 978347200.0000 - mae: 30457.2109 - val_loss: 355272736.0000 - val_mae: 17380.3711\n",
      "Epoch 4/150\n",
      "125/125 [==============================] - 0s 2ms/step - loss: 969549504.0000 - mae: 30315.2930 - val_loss: 350297792.0000 - val_mae: 17266.1328\n",
      "Epoch 5/150\n",
      "125/125 [==============================] - 0s 2ms/step - loss: 960825792.0000 - mae: 30173.9023 - val_loss: 345379584.0000 - val_mae: 17152.2715\n",
      "Epoch 6/150\n",
      "125/125 [==============================] - 0s 2ms/step - loss: 952168512.0000 - mae: 30032.9277 - val_loss: 340515936.0000 - val_mae: 17038.7188\n",
      "Epoch 7/150\n",
      "125/125 [==============================] - 0s 2ms/step - loss: 943574976.0000 - mae: 29892.2988 - val_loss: 335704896.0000 - val_mae: 16925.4980\n",
      "Epoch 8/150\n",
      "125/125 [==============================] - 0s 2ms/step - loss: 935041472.0000 - mae: 29752.0137 - val_loss: 330945376.0000 - val_mae: 16813.1211\n",
      "Epoch 9/150\n",
      "125/125 [==============================] - 0s 2ms/step - loss: 926567488.0000 - mae: 29611.9941 - val_loss: 326236256.0000 - val_mae: 16700.9609\n",
      "Epoch 10/150\n",
      "125/125 [==============================] - 0s 2ms/step - loss: 918150592.0000 - mae: 29472.3320 - val_loss: 321576608.0000 - val_mae: 16589.0039\n",
      "Epoch 11/150\n",
      "125/125 [==============================] - 0s 2ms/step - loss: 909789824.0000 - mae: 29333.1445 - val_loss: 316965792.0000 - val_mae: 16477.2480\n",
      "Epoch 12/150\n",
      "125/125 [==============================] - 0s 2ms/step - loss: 901483904.0000 - mae: 29194.2129 - val_loss: 312403008.0000 - val_mae: 16365.6748\n",
      "Epoch 13/150\n",
      "125/125 [==============================] - 0s 2ms/step - loss: 893231552.0000 - mae: 29055.4883 - val_loss: 307887872.0000 - val_mae: 16254.2861\n",
      "Epoch 14/150\n",
      "125/125 [==============================] - 0s 2ms/step - loss: 885032960.0000 - mae: 28916.9863 - val_loss: 303419520.0000 - val_mae: 16143.2520\n",
      "Epoch 15/150\n",
      "125/125 [==============================] - 0s 2ms/step - loss: 876886016.0000 - mae: 28778.6953 - val_loss: 298997568.0000 - val_mae: 16032.8457\n",
      "Epoch 16/150\n",
      "125/125 [==============================] - 0s 2ms/step - loss: 868790848.0000 - mae: 28640.5918 - val_loss: 294621504.0000 - val_mae: 15922.5850\n",
      "Epoch 17/150\n",
      "125/125 [==============================] - 0s 2ms/step - loss: 860745856.0000 - mae: 28502.6719 - val_loss: 290290944.0000 - val_mae: 15812.4746\n",
      "Epoch 18/150\n",
      "125/125 [==============================] - 0s 2ms/step - loss: 852751104.0000 - mae: 28364.9395 - val_loss: 286005376.0000 - val_mae: 15702.4990\n",
      "Epoch 19/150\n",
      "125/125 [==============================] - 0s 2ms/step - loss: 844805568.0000 - mae: 28227.3594 - val_loss: 281764384.0000 - val_mae: 15592.6523\n",
      "Epoch 20/150\n",
      "125/125 [==============================] - 0s 2ms/step - loss: 836908928.0000 - mae: 28089.9375 - val_loss: 277567616.0000 - val_mae: 15482.9277\n",
      "Epoch 21/150\n",
      "125/125 [==============================] - 0s 2ms/step - loss: 829059584.0000 - mae: 27952.6719 - val_loss: 273414720.0000 - val_mae: 15373.3242\n",
      "Epoch 22/150\n",
      "125/125 [==============================] - 0s 2ms/step - loss: 821258816.0000 - mae: 27815.5605 - val_loss: 269305536.0000 - val_mae: 15264.4141\n",
      "Epoch 23/150\n",
      "125/125 [==============================] - 0s 2ms/step - loss: 813504448.0000 - mae: 27678.5781 - val_loss: 265239488.0000 - val_mae: 15155.6777\n",
      "Epoch 24/150\n",
      "125/125 [==============================] - 0s 2ms/step - loss: 805797440.0000 - mae: 27541.7285 - val_loss: 261216544.0000 - val_mae: 15047.0527\n",
      "Epoch 25/150\n",
      "125/125 [==============================] - 0s 2ms/step - loss: 798135936.0000 - mae: 27405.0078 - val_loss: 257236160.0000 - val_mae: 14938.5195\n",
      "Epoch 26/150\n",
      "125/125 [==============================] - 0s 2ms/step - loss: 790520704.0000 - mae: 27268.4004 - val_loss: 253298320.0000 - val_mae: 14830.0859\n",
      "Epoch 27/150\n",
      "125/125 [==============================] - 0s 2ms/step - loss: 782951104.0000 - mae: 27131.9199 - val_loss: 249402720.0000 - val_mae: 14722.3594\n",
      "Epoch 28/150\n",
      "125/125 [==============================] - 0s 2ms/step - loss: 775426560.0000 - mae: 26995.5508 - val_loss: 245549120.0000 - val_mae: 14614.7520\n",
      "Epoch 29/150\n",
      "125/125 [==============================] - 0s 2ms/step - loss: 767946368.0000 - mae: 26859.2812 - val_loss: 241737328.0000 - val_mae: 14507.2256\n",
      "Epoch 30/150\n",
      "125/125 [==============================] - 0s 2ms/step - loss: 760511232.0000 - mae: 26723.1211 - val_loss: 237967120.0000 - val_mae: 14399.7793\n",
      "Epoch 31/150\n",
      "125/125 [==============================] - 0s 2ms/step - loss: 753119936.0000 - mae: 26587.0684 - val_loss: 234238352.0000 - val_mae: 14292.4160\n",
      "Epoch 32/150\n",
      "125/125 [==============================] - 0s 2ms/step - loss: 745772928.0000 - mae: 26451.1016 - val_loss: 230550944.0000 - val_mae: 14185.1221\n",
      "Epoch 33/150\n",
      "125/125 [==============================] - 0s 2ms/step - loss: 738469312.0000 - mae: 26315.2324 - val_loss: 226904528.0000 - val_mae: 14077.9072\n",
      "Epoch 34/150\n",
      "125/125 [==============================] - 0s 2ms/step - loss: 731209600.0000 - mae: 26179.4531 - val_loss: 223299168.0000 - val_mae: 13970.7646\n",
      "Epoch 35/150\n",
      "125/125 [==============================] - 0s 2ms/step - loss: 723993280.0000 - mae: 26043.7754 - val_loss: 219734640.0000 - val_mae: 13863.6885\n",
      "Epoch 36/150\n",
      "125/125 [==============================] - 0s 2ms/step - loss: 716819776.0000 - mae: 25908.1934 - val_loss: 216151024.0000 - val_mae: 13745.6787\n",
      "Epoch 37/150\n",
      "125/125 [==============================] - 0s 2ms/step - loss: 709689152.0000 - mae: 25772.6660 - val_loss: 212601472.0000 - val_mae: 13627.0713\n",
      "Epoch 38/150\n",
      "125/125 [==============================] - 0s 2ms/step - loss: 702601408.0000 - mae: 25637.2500 - val_loss: 209151872.0000 - val_mae: 13520.4521\n",
      "Epoch 39/150\n",
      "125/125 [==============================] - 0s 2ms/step - loss: 695556416.0000 - mae: 25501.9004 - val_loss: 205742608.0000 - val_mae: 13414.3838\n",
      "Epoch 40/150\n",
      "125/125 [==============================] - 0s 2ms/step - loss: 688554240.0000 - mae: 25366.6387 - val_loss: 202299920.0000 - val_mae: 13296.1943\n",
      "Epoch 41/150\n",
      "125/125 [==============================] - 0s 2ms/step - loss: 681593920.0000 - mae: 25231.4570 - val_loss: 198967024.0000 - val_mae: 13189.7822\n",
      "Epoch 42/150\n",
      "125/125 [==============================] - 0s 2ms/step - loss: 674675968.0000 - mae: 25096.3477 - val_loss: 195674080.0000 - val_mae: 13083.6504\n",
      "Epoch 43/150\n",
      "125/125 [==============================] - 0s 2ms/step - loss: 667800448.0000 - mae: 24961.4746 - val_loss: 192420880.0000 - val_mae: 12977.6240\n",
      "Epoch 44/150\n",
      "125/125 [==============================] - 0s 2ms/step - loss: 660966528.0000 - mae: 24826.7988 - val_loss: 189118256.0000 - val_mae: 12857.9170\n",
      "Epoch 45/150\n",
      "125/125 [==============================] - 0s 2ms/step - loss: 654174912.0000 - mae: 24692.2129 - val_loss: 185940080.0000 - val_mae: 12752.5908\n",
      "Epoch 46/150\n",
      "125/125 [==============================] - 0s 2ms/step - loss: 647425152.0000 - mae: 24557.6895 - val_loss: 182890496.0000 - val_mae: 12652.4199\n",
      "Epoch 47/150\n",
      "125/125 [==============================] - 0s 2ms/step - loss: 640717312.0000 - mae: 24423.2559 - val_loss: 181531792.0000 - val_mae: 12568.7686\n",
      "Epoch 48/150\n",
      "125/125 [==============================] - 0s 2ms/step - loss: 634050880.0000 - mae: 24288.9766 - val_loss: 178411072.0000 - val_mae: 12461.3330\n",
      "Epoch 49/150\n",
      "125/125 [==============================] - 0s 2ms/step - loss: 627426368.0000 - mae: 24154.9688 - val_loss: 175200832.0000 - val_mae: 12349.7422\n",
      "Epoch 50/150\n",
      "125/125 [==============================] - 0s 2ms/step - loss: 620843328.0000 - mae: 24021.0273 - val_loss: 172305808.0000 - val_mae: 12248.7490\n",
      "Epoch 51/150\n",
      "125/125 [==============================] - 0s 2ms/step - loss: 614301632.0000 - mae: 23887.1797 - val_loss: 169543888.0000 - val_mae: 12152.1670\n",
      "Epoch 52/150\n",
      "125/125 [==============================] - 0s 2ms/step - loss: 607801664.0000 - mae: 23753.3926 - val_loss: 166724000.0000 - val_mae: 12055.7012\n"
     ]
    },
    {
     "name": "stdout",
     "output_type": "stream",
     "text": [
      "Epoch 53/150\n",
      "125/125 [==============================] - 0s 2ms/step - loss: 601342848.0000 - mae: 23619.6758 - val_loss: 163886560.0000 - val_mae: 11953.3467\n",
      "Epoch 54/150\n",
      "125/125 [==============================] - 0s 2ms/step - loss: 594925760.0000 - mae: 23486.0547 - val_loss: 161096416.0000 - val_mae: 11852.9521\n",
      "Epoch 55/150\n",
      "125/125 [==============================] - 0s 2ms/step - loss: 588549760.0000 - mae: 23352.4902 - val_loss: 158807520.0000 - val_mae: 11808.8242\n",
      "Epoch 56/150\n",
      "125/125 [==============================] - 0s 2ms/step - loss: 582215104.0000 - mae: 23219.0117 - val_loss: 153569856.0000 - val_mae: 11617.3945\n",
      "Epoch 57/150\n",
      "125/125 [==============================] - 0s 2ms/step - loss: 575921408.0000 - mae: 23085.6230 - val_loss: 150860640.0000 - val_mae: 11516.5869\n",
      "Epoch 58/150\n",
      "125/125 [==============================] - 0s 2ms/step - loss: 569669248.0000 - mae: 22952.3008 - val_loss: 148190400.0000 - val_mae: 11416.1592\n",
      "Epoch 59/150\n",
      "125/125 [==============================] - 0s 2ms/step - loss: 563458304.0000 - mae: 22819.0664 - val_loss: 145558704.0000 - val_mae: 11315.7891\n",
      "Epoch 60/150\n",
      "125/125 [==============================] - 0s 2ms/step - loss: 557288000.0000 - mae: 22685.9004 - val_loss: 142965600.0000 - val_mae: 11215.4854\n",
      "Epoch 61/150\n",
      "125/125 [==============================] - 0s 2ms/step - loss: 551158976.0000 - mae: 22552.8203 - val_loss: 140411072.0000 - val_mae: 11115.3877\n",
      "Epoch 62/150\n",
      "125/125 [==============================] - 0s 2ms/step - loss: 545071232.0000 - mae: 22419.8164 - val_loss: 137894992.0000 - val_mae: 11015.8799\n",
      "Epoch 63/150\n",
      "125/125 [==============================] - 0s 2ms/step - loss: 539024384.0000 - mae: 22286.9121 - val_loss: 135417424.0000 - val_mae: 10916.8916\n",
      "Epoch 64/150\n",
      "125/125 [==============================] - 0s 2ms/step - loss: 533018432.0000 - mae: 22154.0703 - val_loss: 132978392.0000 - val_mae: 10818.0664\n",
      "Epoch 65/150\n",
      "125/125 [==============================] - 0s 2ms/step - loss: 527053568.0000 - mae: 22021.3223 - val_loss: 130577712.0000 - val_mae: 10719.0361\n",
      "Epoch 66/150\n",
      "125/125 [==============================] - 0s 2ms/step - loss: 521129760.0000 - mae: 21888.6660 - val_loss: 128274480.0000 - val_mae: 10631.2402\n",
      "Epoch 67/150\n",
      "125/125 [==============================] - 0s 2ms/step - loss: 515246656.0000 - mae: 21756.0820 - val_loss: 125940944.0000 - val_mae: 10532.5361\n",
      "Epoch 68/150\n",
      "125/125 [==============================] - 0s 2ms/step - loss: 509404224.0000 - mae: 21623.5918 - val_loss: 123607928.0000 - val_mae: 10431.8047\n",
      "Epoch 69/150\n",
      "125/125 [==============================] - 0s 2ms/step - loss: 503603136.0000 - mae: 21491.1934 - val_loss: 121276080.0000 - val_mae: 10328.8242\n",
      "Epoch 70/150\n",
      "125/125 [==============================] - 0s 2ms/step - loss: 497842624.0000 - mae: 21358.8867 - val_loss: 118933096.0000 - val_mae: 10220.6299\n",
      "Epoch 71/150\n",
      "125/125 [==============================] - 0s 2ms/step - loss: 492122752.0000 - mae: 21226.6582 - val_loss: 116622224.0000 - val_mae: 10114.7822\n",
      "Epoch 72/150\n",
      "125/125 [==============================] - 0s 2ms/step - loss: 486443744.0000 - mae: 21094.5137 - val_loss: 114293640.0000 - val_mae: 10001.7852\n",
      "Epoch 73/150\n",
      "125/125 [==============================] - 0s 2ms/step - loss: 480805312.0000 - mae: 20962.4707 - val_loss: 112009128.0000 - val_mae: 9883.7949\n",
      "Epoch 74/150\n",
      "125/125 [==============================] - 0s 2ms/step - loss: 475207360.0000 - mae: 20830.5156 - val_loss: 109857984.0000 - val_mae: 9776.0205\n",
      "Epoch 75/150\n",
      "125/125 [==============================] - 0s 2ms/step - loss: 469650368.0000 - mae: 20698.6641 - val_loss: 107868080.0000 - val_mae: 9673.4141\n",
      "Epoch 76/150\n",
      "125/125 [==============================] - 0s 2ms/step - loss: 464134240.0000 - mae: 20566.8984 - val_loss: 105870400.0000 - val_mae: 9575.7002\n",
      "Epoch 77/150\n",
      "125/125 [==============================] - 0s 2ms/step - loss: 458658336.0000 - mae: 20435.2441 - val_loss: 103927552.0000 - val_mae: 9479.3711\n",
      "Epoch 78/150\n",
      "125/125 [==============================] - 0s 2ms/step - loss: 453223136.0000 - mae: 20303.6758 - val_loss: 102049992.0000 - val_mae: 9385.4521\n",
      "Epoch 79/150\n",
      "125/125 [==============================] - 0s 2ms/step - loss: 447828608.0000 - mae: 20172.2109 - val_loss: 100263680.0000 - val_mae: 9295.6602\n",
      "Epoch 80/150\n",
      "125/125 [==============================] - 0s 2ms/step - loss: 442474720.0000 - mae: 20040.8477 - val_loss: 98335336.0000 - val_mae: 9197.3105\n",
      "Epoch 81/150\n",
      "125/125 [==============================] - 0s 2ms/step - loss: 437161280.0000 - mae: 19909.5898 - val_loss: 96478552.0000 - val_mae: 9097.2471\n",
      "Epoch 82/150\n",
      "125/125 [==============================] - 0s 2ms/step - loss: 431888416.0000 - mae: 19778.4375 - val_loss: 94679184.0000 - val_mae: 9002.3799\n",
      "Epoch 83/150\n",
      "125/125 [==============================] - 0s 2ms/step - loss: 426656160.0000 - mae: 19647.3906 - val_loss: 92912720.0000 - val_mae: 8906.5166\n",
      "Epoch 84/150\n",
      "125/125 [==============================] - 0s 2ms/step - loss: 421463936.0000 - mae: 19516.4453 - val_loss: 91185360.0000 - val_mae: 8811.1904\n",
      "Epoch 85/150\n",
      "125/125 [==============================] - 0s 2ms/step - loss: 416312256.0000 - mae: 19385.6074 - val_loss: 89496168.0000 - val_mae: 8719.1445\n",
      "Epoch 86/150\n",
      "125/125 [==============================] - 0s 2ms/step - loss: 411200992.0000 - mae: 19254.8848 - val_loss: 87836208.0000 - val_mae: 8625.1543\n",
      "Epoch 87/150\n",
      "125/125 [==============================] - 0s 2ms/step - loss: 406130080.0000 - mae: 19124.2637 - val_loss: 86222240.0000 - val_mae: 8536.4043\n",
      "Epoch 88/150\n",
      "125/125 [==============================] - 0s 2ms/step - loss: 401099104.0000 - mae: 18993.7578 - val_loss: 84643296.0000 - val_mae: 8448.0059\n",
      "Epoch 89/150\n",
      "125/125 [==============================] - 0s 2ms/step - loss: 396108832.0000 - mae: 18863.3770 - val_loss: 83113048.0000 - val_mae: 8365.5508\n",
      "Epoch 90/150\n",
      "125/125 [==============================] - 0s 2ms/step - loss: 391158528.0000 - mae: 18733.1113 - val_loss: 81585256.0000 - val_mae: 8272.9844\n",
      "Epoch 91/150\n",
      "125/125 [==============================] - 0s 2ms/step - loss: 386248800.0000 - mae: 18602.9570 - val_loss: 80468056.0000 - val_mae: 8213.6729\n",
      "Epoch 92/150\n",
      "125/125 [==============================] - 0s 2ms/step - loss: 381378912.0000 - mae: 18472.9277 - val_loss: 79036152.0000 - val_mae: 8126.7495\n",
      "Epoch 93/150\n",
      "125/125 [==============================] - 0s 2ms/step - loss: 376549696.0000 - mae: 18343.0195 - val_loss: 77580144.0000 - val_mae: 8036.0649\n",
      "Epoch 94/150\n",
      "125/125 [==============================] - 0s 2ms/step - loss: 371760320.0000 - mae: 18213.4336 - val_loss: 76198776.0000 - val_mae: 7950.6851\n",
      "Epoch 95/150\n",
      "125/125 [==============================] - 0s 2ms/step - loss: 367011104.0000 - mae: 18084.3008 - val_loss: 74856448.0000 - val_mae: 7864.1318\n",
      "Epoch 96/150\n",
      "125/125 [==============================] - 0s 2ms/step - loss: 362302048.0000 - mae: 17955.3145 - val_loss: 73553008.0000 - val_mae: 7777.4077\n",
      "Epoch 97/150\n",
      "125/125 [==============================] - 0s 2ms/step - loss: 357632608.0000 - mae: 17826.4297 - val_loss: 72293192.0000 - val_mae: 7693.4170\n",
      "Epoch 98/150\n",
      "125/125 [==============================] - 0s 2ms/step - loss: 353003488.0000 - mae: 17697.7012 - val_loss: 71082360.0000 - val_mae: 7611.1743\n",
      "Epoch 99/150\n",
      "125/125 [==============================] - 0s 2ms/step - loss: 348414304.0000 - mae: 17569.0957 - val_loss: 69907176.0000 - val_mae: 7529.0649\n",
      "Epoch 100/150\n",
      "125/125 [==============================] - 0s 2ms/step - loss: 343864896.0000 - mae: 17440.6211 - val_loss: 68764048.0000 - val_mae: 7445.7319\n",
      "Epoch 101/150\n",
      "125/125 [==============================] - 0s 2ms/step - loss: 339355488.0000 - mae: 17312.4414 - val_loss: 67618160.0000 - val_mae: 7355.4331\n",
      "Epoch 102/150\n",
      "125/125 [==============================] - 0s 2ms/step - loss: 334885632.0000 - mae: 17184.5059 - val_loss: 66699588.0000 - val_mae: 7302.0215\n",
      "Epoch 103/150\n",
      "125/125 [==============================] - 0s 2ms/step - loss: 330455872.0000 - mae: 17057.7051 - val_loss: 68083168.0000 - val_mae: 7391.3188\n",
      "Epoch 104/150\n",
      "125/125 [==============================] - 0s 2ms/step - loss: 326065984.0000 - mae: 16935.6621 - val_loss: 68098360.0000 - val_mae: 7363.0903\n",
      "Epoch 105/150\n"
     ]
    },
    {
     "name": "stdout",
     "output_type": "stream",
     "text": [
      "125/125 [==============================] - 0s 2ms/step - loss: 321715616.0000 - mae: 16814.2324 - val_loss: 67213768.0000 - val_mae: 7290.6445\n",
      "Epoch 106/150\n",
      "125/125 [==============================] - 0s 2ms/step - loss: 317405056.0000 - mae: 16693.0957 - val_loss: 66364360.0000 - val_mae: 7218.4971\n",
      "Epoch 107/150\n",
      "125/125 [==============================] - 0s 2ms/step - loss: 313134112.0000 - mae: 16572.2070 - val_loss: 65550496.0000 - val_mae: 7146.9849\n",
      "Epoch 108/150\n",
      "125/125 [==============================] - 0s 2ms/step - loss: 308902784.0000 - mae: 16451.4648 - val_loss: 64772056.0000 - val_mae: 7075.9189\n",
      "Epoch 109/150\n",
      "125/125 [==============================] - 0s 2ms/step - loss: 304711264.0000 - mae: 16330.9385 - val_loss: 64028900.0000 - val_mae: 7005.5190\n",
      "Epoch 110/150\n",
      "125/125 [==============================] - 0s 2ms/step - loss: 300558880.0000 - mae: 16210.7471 - val_loss: 63320912.0000 - val_mae: 6935.9258\n",
      "Epoch 111/150\n",
      "125/125 [==============================] - 0s 2ms/step - loss: 296446176.0000 - mae: 16090.7148 - val_loss: 62648000.0000 - val_mae: 6866.8599\n",
      "Epoch 112/150\n",
      "125/125 [==============================] - 0s 2ms/step - loss: 292372672.0000 - mae: 15970.8340 - val_loss: 62010012.0000 - val_mae: 6798.2998\n",
      "Epoch 113/150\n",
      "125/125 [==============================] - 0s 2ms/step - loss: 288338848.0000 - mae: 15851.1133 - val_loss: 61406848.0000 - val_mae: 6730.7061\n",
      "Epoch 114/150\n",
      "125/125 [==============================] - 0s 2ms/step - loss: 284344192.0000 - mae: 15731.5518 - val_loss: 60838392.0000 - val_mae: 6663.5215\n",
      "Epoch 115/150\n",
      "125/125 [==============================] - 0s 2ms/step - loss: 280388608.0000 - mae: 15612.1436 - val_loss: 60304540.0000 - val_mae: 6596.4390\n",
      "Epoch 116/150\n",
      "125/125 [==============================] - 0s 2ms/step - loss: 276472608.0000 - mae: 15492.9189 - val_loss: 59805148.0000 - val_mae: 6530.0854\n",
      "Epoch 117/150\n",
      "125/125 [==============================] - 0s 2ms/step - loss: 272595808.0000 - mae: 15373.8525 - val_loss: 59340056.0000 - val_mae: 6464.3896\n",
      "Epoch 118/150\n",
      "125/125 [==============================] - 0s 2ms/step - loss: 268758016.0000 - mae: 15254.9570 - val_loss: 58909140.0000 - val_mae: 6398.7886\n",
      "Epoch 119/150\n",
      "125/125 [==============================] - 0s 2ms/step - loss: 264959216.0000 - mae: 15136.2354 - val_loss: 58512280.0000 - val_mae: 6333.2827\n",
      "Epoch 120/150\n",
      "125/125 [==============================] - 0s 2ms/step - loss: 261199744.0000 - mae: 15017.6963 - val_loss: 58149356.0000 - val_mae: 6267.8833\n",
      "Epoch 121/150\n",
      "125/125 [==============================] - 0s 2ms/step - loss: 257478976.0000 - mae: 14899.3320 - val_loss: 57820164.0000 - val_mae: 6202.5752\n",
      "Epoch 122/150\n",
      "125/125 [==============================] - 0s 2ms/step - loss: 253797200.0000 - mae: 14781.1543 - val_loss: 57524600.0000 - val_mae: 6137.3970\n",
      "Epoch 123/150\n",
      "125/125 [==============================] - 0s 2ms/step - loss: 250154352.0000 - mae: 14663.1572 - val_loss: 57262512.0000 - val_mae: 6072.8955\n",
      "Epoch 124/150\n",
      "125/125 [==============================] - 0s 2ms/step - loss: 246550208.0000 - mae: 14545.5684 - val_loss: 57033760.0000 - val_mae: 6008.7690\n",
      "Epoch 125/150\n",
      "125/125 [==============================] - 0s 2ms/step - loss: 242985088.0000 - mae: 14428.2217 - val_loss: 56838164.0000 - val_mae: 5945.9858\n",
      "Epoch 126/150\n",
      "125/125 [==============================] - 0s 2ms/step - loss: 239458880.0000 - mae: 14311.3340 - val_loss: 56675588.0000 - val_mae: 5884.7861\n",
      "Epoch 127/150\n",
      "125/125 [==============================] - 0s 2ms/step - loss: 235971152.0000 - mae: 14194.6377 - val_loss: 56545836.0000 - val_mae: 5824.6689\n",
      "Epoch 128/150\n",
      "125/125 [==============================] - 0s 2ms/step - loss: 232521872.0000 - mae: 14078.1436 - val_loss: 56448776.0000 - val_mae: 5766.7754\n",
      "Epoch 129/150\n",
      "125/125 [==============================] - 0s 2ms/step - loss: 229111216.0000 - mae: 13961.8506 - val_loss: 56384184.0000 - val_mae: 5709.8516\n",
      "Epoch 130/150\n",
      "125/125 [==============================] - 0s 2ms/step - loss: 225738752.0000 - mae: 13845.7686 - val_loss: 56351968.0000 - val_mae: 5654.3901\n",
      "Epoch 131/150\n",
      "125/125 [==============================] - 0s 2ms/step - loss: 222404960.0000 - mae: 13729.9062 - val_loss: 56351888.0000 - val_mae: 5601.8833\n",
      "Epoch 132/150\n",
      "125/125 [==============================] - 0s 2ms/step - loss: 219109488.0000 - mae: 13614.2607 - val_loss: 56383780.0000 - val_mae: 5551.8115\n",
      "Epoch 133/150\n",
      "125/125 [==============================] - 0s 2ms/step - loss: 215852368.0000 - mae: 13498.8457 - val_loss: 56447436.0000 - val_mae: 5503.5024\n",
      "Epoch 134/150\n",
      "125/125 [==============================] - 0s 2ms/step - loss: 212633120.0000 - mae: 13383.6484 - val_loss: 56542724.0000 - val_mae: 5459.2388\n",
      "Epoch 135/150\n",
      "125/125 [==============================] - 0s 2ms/step - loss: 209452000.0000 - mae: 13268.6738 - val_loss: 56669408.0000 - val_mae: 5417.6436\n",
      "Epoch 136/150\n",
      "125/125 [==============================] - 0s 2ms/step - loss: 206308704.0000 - mae: 13153.9355 - val_loss: 56827312.0000 - val_mae: 5377.7866\n"
     ]
    }
   ],
   "source": [
    "model_5, history_5 = fit_model(model_5)"
   ]
  },
  {
   "cell_type": "code",
   "execution_count": 510,
   "id": "62a699fe",
   "metadata": {},
   "outputs": [
    {
     "data": {
      "text/plain": [
       "array([<Axes: title={'center': 'MSE'}, xlabel='Epoch', ylabel='Loss'>,\n",
       "       <Axes: title={'center': 'MAE'}, xlabel='Epoch', ylabel='MAE'>],\n",
       "      dtype=object)"
      ]
     },
     "execution_count": 510,
     "metadata": {},
     "output_type": "execute_result"
    },
    {
     "data": {
      "image/png": "[encoded data removed]",
      "text/plain": [
       "<Figure size 2000x700 with 2 Axes>"
      ]
     },
     "metadata": {},
     "output_type": "display_data"
    }
   ],
   "source": [
    "plot_history(history_5)"
   ]
  },
  {
   "cell_type": "code",
   "execution_count": 511,
   "id": "4b25e151",
   "metadata": {},
   "outputs": [
    {
     "data": {
      "text/plain": [
       "[24163228.0, 2535.830810546875]"
      ]
     },
     "execution_count": 511,
     "metadata": {},
     "output_type": "execute_result"
    }
   ],
   "source": [
    "res5 = model_5.evaluate(X_test, y_test, verbose=0)\n",
    "res5"
   ]
  },
  {
   "cell_type": "code",
   "execution_count": null,
   "id": "40e8448a",
   "metadata": {},
   "outputs": [],
   "source": []
  }
 ],
 "metadata": {
  "kernelspec": {
   "display_name": "Python 3 (ipykernel)",
   "language": "python",
   "name": "python3"
  },
  "language_info": {
   "codemirror_mode": {
    "name": "ipython",
    "version": 3
   },
   "file_extension": ".py",
   "mimetype": "text/x-python",
   "name": "python",
   "nbconvert_exporter": "python",
   "pygments_lexer": "ipython3",
   "version": "3.10.6"
  },
  "toc": {
   "base_numbering": 1,
   "nav_menu": {},
   "number_sections": true,
   "sideBar": true,
   "skip_h1_title": false,
   "title_cell": "Table of Contents",
   "title_sidebar": "Contents",
   "toc_cell": false,
   "toc_position": {},
   "toc_section_display": true,
   "toc_window_display": false
  }
 },
 "nbformat": 4,
 "nbformat_minor": 5
}
